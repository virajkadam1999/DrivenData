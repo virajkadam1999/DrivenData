{
 "cells": [
  {
   "cell_type": "markdown",
   "id": "64f9d886-4238-453d-b05a-9b9f9ee9afa6",
   "metadata": {},
   "source": [
    "Imports "
   ]
  },
  {
   "cell_type": "code",
   "execution_count": 1,
   "id": "9e4245b1-f560-46d9-aff0-f46859e89838",
   "metadata": {},
   "outputs": [],
   "source": [
    "!pip install catboost -q\n",
    "!pip install optuna -q"
   ]
  },
  {
   "cell_type": "code",
   "execution_count": 1,
   "id": "ca30e94e-4f71-4aa2-a620-052675e26a8e",
   "metadata": {},
   "outputs": [],
   "source": [
    "import pandas as pd \n",
    "import numpy as np \n",
    "import matplotlib.pyplot as plt \n",
    "import seaborn as sns \n",
    "from sklearn.model_selection import KFold,train_test_split\n",
    "import os \n",
    "import gc\n",
    "\n",
    "#catboost\n",
    "from catboost import Pool, CatBoostRegressor\n",
    "\n",
    "#optimization \n",
    "import optuna \n",
    "from optuna import Trial as trial\n",
    "#metrics \n",
    "from sklearn.metrics import r2_score,mean_squared_error\n",
    "\n",
    "from pathlib import Path\n",
    "\n",
    "pd.set_option('display.max_columns',None)"
   ]
  },
  {
   "cell_type": "code",
   "execution_count": 2,
   "id": "fbc78d0d-b2cb-472c-ba60-69aec4140d99",
   "metadata": {},
   "outputs": [],
   "source": [
    "\n",
    "\n",
    "class config:\n",
    "    def __init__(self,seed):\n",
    "        self.seed = seed\n",
    "        \n",
    "                \n",
    "#cfg \n",
    "cfg = config(seed=7)\n",
    "\n"
   ]
  },
  {
   "cell_type": "markdown",
   "id": "4eb5e5cf-1ac7-4a35-8e7d-1c2fb6561fea",
   "metadata": {},
   "source": [
    "**Loading Data**"
   ]
  },
  {
   "cell_type": "code",
   "execution_count": 3,
   "id": "b3b834bb-b6ce-4539-ab64-bfcd69f3a7dc",
   "metadata": {},
   "outputs": [],
   "source": [
    "DATA_PATH = Path.cwd().parent / \"data\"\n",
    "\n",
    "processed= DATA_PATH / \"processed\""
   ]
  },
  {
   "cell_type": "code",
   "execution_count": 4,
   "id": "8762ef97-8c90-45cb-96e9-4f78ee6dfe21",
   "metadata": {},
   "outputs": [],
   "source": [
    "train = pd.read_csv(processed / \"train.csv\")\n",
    "test = pd.read_csv(processed / \"test.csv\")\n",
    "\n",
    "test_ids = pd.read_csv(processed / \"test_ids.csv\")\n",
    "\n",
    "sample_sub = pd.read_csv(DATA_PATH / \"raw/submission_format.csv\")"
   ]
  },
  {
   "cell_type": "code",
   "execution_count": 5,
   "id": "be44421b-32ce-4768-be1a-66ccd1359990",
   "metadata": {},
   "outputs": [
    {
     "data": {
      "text/html": [
       "<div>\n",
       "<style scoped>\n",
       "    .dataframe tbody tr th:only-of-type {\n",
       "        vertical-align: middle;\n",
       "    }\n",
       "\n",
       "    .dataframe tbody tr th {\n",
       "        vertical-align: top;\n",
       "    }\n",
       "\n",
       "    .dataframe thead th {\n",
       "        text-align: right;\n",
       "    }\n",
       "</style>\n",
       "<table border=\"1\" class=\"dataframe\">\n",
       "  <thead>\n",
       "    <tr style=\"text-align: right;\">\n",
       "      <th></th>\n",
       "      <th>no2</th>\n",
       "      <th>trop_no2</th>\n",
       "      <th>trop_no2_cs</th>\n",
       "      <th>col_no2</th>\n",
       "      <th>col_no2_cs</th>\n",
       "      <th>null_fields</th>\n",
       "      <th>Delhi</th>\n",
       "      <th>Los Angeles (SoCAB)</th>\n",
       "      <th>year</th>\n",
       "      <th>cos_month</th>\n",
       "      <th>sin_month</th>\n",
       "    </tr>\n",
       "  </thead>\n",
       "  <tbody>\n",
       "    <tr>\n",
       "      <th>0</th>\n",
       "      <td>8.695000</td>\n",
       "      <td>4.481723</td>\n",
       "      <td>4.481723</td>\n",
       "      <td>6.237321</td>\n",
       "      <td>6.237321</td>\n",
       "      <td>0</td>\n",
       "      <td>0</td>\n",
       "      <td>1</td>\n",
       "      <td>1</td>\n",
       "      <td>0.866025</td>\n",
       "      <td>0.5</td>\n",
       "    </tr>\n",
       "    <tr>\n",
       "      <th>1</th>\n",
       "      <td>10.496667</td>\n",
       "      <td>5.436216</td>\n",
       "      <td>5.436216</td>\n",
       "      <td>7.206068</td>\n",
       "      <td>7.206068</td>\n",
       "      <td>0</td>\n",
       "      <td>0</td>\n",
       "      <td>1</td>\n",
       "      <td>1</td>\n",
       "      <td>0.866025</td>\n",
       "      <td>0.5</td>\n",
       "    </tr>\n",
       "    <tr>\n",
       "      <th>2</th>\n",
       "      <td>37.208333</td>\n",
       "      <td>6.966879</td>\n",
       "      <td>6.966879</td>\n",
       "      <td>8.714388</td>\n",
       "      <td>8.714388</td>\n",
       "      <td>0</td>\n",
       "      <td>0</td>\n",
       "      <td>1</td>\n",
       "      <td>1</td>\n",
       "      <td>0.866025</td>\n",
       "      <td>0.5</td>\n",
       "    </tr>\n",
       "    <tr>\n",
       "      <th>3</th>\n",
       "      <td>9.791667</td>\n",
       "      <td>6.361926</td>\n",
       "      <td>6.361926</td>\n",
       "      <td>8.107447</td>\n",
       "      <td>8.107447</td>\n",
       "      <td>0</td>\n",
       "      <td>0</td>\n",
       "      <td>1</td>\n",
       "      <td>1</td>\n",
       "      <td>0.866025</td>\n",
       "      <td>0.5</td>\n",
       "    </tr>\n",
       "    <tr>\n",
       "      <th>4</th>\n",
       "      <td>4.308333</td>\n",
       "      <td>2.464319</td>\n",
       "      <td>2.464319</td>\n",
       "      <td>4.228561</td>\n",
       "      <td>4.228561</td>\n",
       "      <td>0</td>\n",
       "      <td>0</td>\n",
       "      <td>1</td>\n",
       "      <td>1</td>\n",
       "      <td>0.866025</td>\n",
       "      <td>0.5</td>\n",
       "    </tr>\n",
       "  </tbody>\n",
       "</table>\n",
       "</div>"
      ],
      "text/plain": [
       "         no2  trop_no2  trop_no2_cs   col_no2  col_no2_cs  null_fields  Delhi  \\\n",
       "0   8.695000  4.481723     4.481723  6.237321    6.237321            0      0   \n",
       "1  10.496667  5.436216     5.436216  7.206068    7.206068            0      0   \n",
       "2  37.208333  6.966879     6.966879  8.714388    8.714388            0      0   \n",
       "3   9.791667  6.361926     6.361926  8.107447    8.107447            0      0   \n",
       "4   4.308333  2.464319     2.464319  4.228561    4.228561            0      0   \n",
       "\n",
       "   Los Angeles (SoCAB)  year  cos_month  sin_month  \n",
       "0                    1     1   0.866025        0.5  \n",
       "1                    1     1   0.866025        0.5  \n",
       "2                    1     1   0.866025        0.5  \n",
       "3                    1     1   0.866025        0.5  \n",
       "4                    1     1   0.866025        0.5  "
      ]
     },
     "execution_count": 5,
     "metadata": {},
     "output_type": "execute_result"
    }
   ],
   "source": [
    "train.head()"
   ]
  },
  {
   "cell_type": "code",
   "execution_count": 6,
   "id": "698ec7b4-a6bf-4393-a772-197dd79fef57",
   "metadata": {},
   "outputs": [],
   "source": [
    "y = train.pop(\"no2\")\n",
    "X = train\n",
    "\n",
    "X_test = test\n",
    "\n",
    "assert len(set(X)-set(X_test)) == 0 ,\"if it keeps on raining, I am gonna break.\""
   ]
  },
  {
   "cell_type": "code",
   "execution_count": 7,
   "id": "caf118c9-b294-4e04-907d-0a0ab975aa25",
   "metadata": {},
   "outputs": [
    {
     "data": {
      "image/png": "[encoded data removed]",
      "text/plain": [
       "<Figure size 1152x576 with 1 Axes>"
      ]
     },
     "metadata": {
      "needs_background": "light"
     },
     "output_type": "display_data"
    }
   ],
   "source": [
    "y.plot(kind='hist',figsize=(16,8),bins=100,title='Distribution of Label')\n",
    "plt.show()"
   ]
  },
  {
   "cell_type": "code",
   "execution_count": 8,
   "id": "3aa41063-15f0-475c-8ea3-aaba8ca9c7e5",
   "metadata": {},
   "outputs": [
    {
     "name": "stdout",
     "output_type": "stream",
     "text": [
      " training shape (19188, 10) \n",
      " test shape (2132, 10)\n"
     ]
    }
   ],
   "source": [
    "\n",
    "def split_data(X,y,test_size=0.1):\n",
    "    '''split data into train and test set'''\n",
    "    x_train,x_test,y_train,y_test = train_test_split(X,y,test_size= test_size)\n",
    "    \n",
    "    for df in [x_train,x_test,y_train,y_test]:  # reset index\n",
    "        df.reset_index(drop=True,inplace=True)\n",
    "    \n",
    "    return x_train,x_test,y_train,y_test\n",
    "\n",
    "\n",
    "\n",
    "x_train,x_val,y_train,y_val = split_data(X=train,\n",
    "                                         y=y,\n",
    "                                         test_size=0.1)\n",
    "\n",
    "print(f' training shape {x_train.shape} \\n test shape {x_val.shape}')\n",
    "\n"
   ]
  },
  {
   "cell_type": "markdown",
   "id": "f55c9d8b-c8b5-4446-a6fa-3a2ba3d5ba87",
   "metadata": {},
   "source": [
    "Optuna hyperparamtuning"
   ]
  },
  {
   "cell_type": "code",
   "execution_count": 9,
   "id": "9570528f-34b3-46d8-ad58-12c79c2b85df",
   "metadata": {},
   "outputs": [],
   "source": [
    "class catboost_optimization:\n",
    "    def __init__(self,\n",
    "                 X,\n",
    "                 y,\n",
    "                 params=None,\n",
    "                 categorical = None,\n",
    "                 seed=cfg.seed):\n",
    "        self.params = params\n",
    "        self.seed   = seed\n",
    "        self.categorical = categorical\n",
    "        self.X = X\n",
    "        self.y = y\n",
    "        \n",
    "\n",
    "    def objective(self,\n",
    "                  trial:optuna.Trial):\n",
    "        \n",
    "        \n",
    "        \n",
    "        self.params = {\n",
    "                'verbose'        : 1,\n",
    "               'loss_function'  :'RMSE',\n",
    "               'depth'          :trial.suggest_int('depth',4,10),\n",
    "               'learning_rate'  :trial.suggest_loguniform('learning_rate', 1e-4, 1e-1),\n",
    "               'l2_leaf_reg'    :trial.suggest_loguniform('l2_leaf_reg', 1e-2, 10.0),\n",
    "               'random_strength':trial.suggest_uniform('random_strength',1e-2,0.5),\n",
    "               'max_bin'        :trial.suggest_int('max_bin',64,254),\n",
    "               'grow_policy'    :trial.suggest_categorical('grow_policy',\n",
    "                                                           ['SymmetricTree','Depthwise']),\n",
    "               'iterations'     :trial.suggest_int('iterations',1000,2000),\n",
    "#                'max_leaves'     :trial.suggest_int('max_leaves',2,64),\n",
    "               \"colsample_bylevel\": trial.suggest_float(\"colsample_bylevel\", 0.3, 0.7),\n",
    "#                \"boosting_type\": trial.suggest_categorical(\"boosting_type\", [\"Ordered\", \"Plain\"]),\n",
    "               \"bootstrap_type\": trial.suggest_categorical(\"bootstrap_type\",\n",
    "                                                           [\"Bayesian\", \"MVS\",'Bernoulli']),\n",
    "               'eval_metric': 'R2'\n",
    "                }\n",
    "\n",
    "        #splitting training data \n",
    "        x_tr,x_ts,y_tr,y_ts=train_test_split(self.X,\n",
    "                                             self.y,\n",
    "                                             random_state=self.seed,\n",
    "                                             train_size=0.60)\n",
    "        \n",
    "# `\n",
    "        try:\n",
    "            model = CatBoostRegressor(**self.params)\n",
    "            \n",
    "            model.fit(x_tr,y_tr,\n",
    "                     eval_set=[(x_ts,y_ts)],\n",
    "                     verbose=0,\n",
    "                     cat_features=self.categorical,\n",
    "                     early_stopping_rounds=300)\n",
    "  \n",
    "\n",
    "            preds=model.predict(x_ts)\n",
    "\n",
    "            acc= mean_squared_error(y_ts,preds)\n",
    "            del x_tr,x_ts,y_tr,y_ts;gc.collect()\n",
    "            return acc\n",
    "\n",
    "        except Exception as e:\n",
    "            print(e)\n",
    "            return None\n",
    "   \n",
    "    def get_best_params(self,\n",
    "                        n_trials = 30,\n",
    "                        time_out=9000,\n",
    "                        direction= 'minimize'):\n",
    "        \n",
    "        print(f'Running optimization for {time_out} seconds / {n_trials} Trials')\n",
    "        \n",
    "        \n",
    "        sampler = optuna.samplers.TPESampler(seed=self.seed)  # Make the sampler behave in a deterministic way.\n",
    "\n",
    "        self.study=optuna.create_study(direction=direction,\n",
    "                                        sampler=sampler)\n",
    "        self.study.optimize(self.objective,\n",
    "                           n_trials=n_trials,\n",
    "                           timeout=time_out)\n",
    "\n",
    "        print(\"Number of finished trials: {}\".format(len(self.study.trials)))\n",
    "\n",
    "        return self.study.best_trial.params\n",
    "\n",
    "    def plot_history(self):\n",
    "        '''plot optimization history :\n",
    "        credits : https://medium.com/databulls/tps-mar21-leaderboard-14-xgb-catboost-lgbm-optuna-cdffb5124368'''\n",
    "        optuna.visualization.plot_optimization_history(self.study)\n",
    "        \n",
    "    def plot_param_importances(self):\n",
    "        '''plot param imp'''\n",
    "        optuna.visualization.plot_param_importances(self.study)"
   ]
  },
  {
   "cell_type": "code",
   "execution_count": null,
   "id": "482848b5-d194-4312-a5fd-10e054a6bfce",
   "metadata": {},
   "outputs": [
    {
     "name": "stderr",
     "output_type": "stream",
     "text": [
      "\u001b[32m[I 2022-03-21 20:51:32,463]\u001b[0m A new study created in memory with name: no-name-a3bdccd2-e421-4d53-9e24-4312a4dd24cc\u001b[0m\n"
     ]
    },
    {
     "name": "stdout",
     "output_type": "stream",
     "text": [
      "Running optimization for 1000 seconds / 20 Trials\n"
     ]
    },
    {
     "name": "stderr",
     "output_type": "stream",
     "text": [
      "\u001b[32m[I 2022-03-21 20:51:33,890]\u001b[0m Trial 0 finished with value: 298.46590320407796 and parameters: {'depth': 4, 'learning_rate': 0.021865347140571728, 'l2_leaf_reg': 0.2066463288698664, 'random_strength': 0.3644979371371612, 'max_bin': 250, 'grow_policy': 'SymmetricTree', 'iterations': 1072, 'colsample_bylevel': 0.40737559204074847, 'bootstrap_type': 'Bernoulli'}. Best is trial 0 with value: 298.46590320407796.\u001b[0m\n"
     ]
    }
   ],
   "source": [
    "\n",
    "\n",
    "catb_optimizer = catboost_optimization(X=x_train,\n",
    "                                       y=y_train,\n",
    "                                      )\n",
    "\n",
    "\n",
    "best_params = catb_optimizer.get_best_params(n_trials = 20,\n",
    "                                            time_out=1000,\n",
    "                                            direction= 'minimize')  # run hyperparam optimization\n",
    "\n"
   ]
  },
  {
   "cell_type": "code",
   "execution_count": 21,
   "id": "145566e1-8238-48ce-a63a-60e4b1ee1186",
   "metadata": {},
   "outputs": [],
   "source": [
    "best_params={'depth': 5, 'learning_rate': 0.02865347140571728, 'l2_leaf_reg': 0.2066463288698664, 'random_strength': 0.3644979371371612, 'max_bin': 250, 'grow_policy': 'SymmetricTree', 'iterations': 1072, 'colsample_bylevel': 0.50737559204074847, 'bootstrap_type': 'MVS'}"
   ]
  },
  {
   "cell_type": "code",
   "execution_count": 22,
   "id": "f20cf386-ec9c-41a9-9e3a-347d9916a302",
   "metadata": {},
   "outputs": [
    {
     "data": {
      "text/plain": [
       "{'depth': 5,\n",
       " 'learning_rate': 0.02865347140571728,\n",
       " 'l2_leaf_reg': 0.2066463288698664,\n",
       " 'random_strength': 0.3644979371371612,\n",
       " 'max_bin': 250,\n",
       " 'grow_policy': 'SymmetricTree',\n",
       " 'iterations': 2500,\n",
       " 'colsample_bylevel': 0.5073755920407484,\n",
       " 'bootstrap_type': 'MVS',\n",
       " 'verbose': 0}"
      ]
     },
     "execution_count": 22,
     "metadata": {},
     "output_type": "execute_result"
    }
   ],
   "source": [
    "best_params.update({'iterations':2500,\n",
    "                    'verbose':0})\n",
    "\n",
    "cfg.best_params = best_params\n",
    "\n",
    "best_params"
   ]
  },
  {
   "cell_type": "code",
   "execution_count": 23,
   "id": "dc8e2c37-0aa7-490a-8fcc-7b78f24e82bf",
   "metadata": {},
   "outputs": [],
   "source": [
    "class my_estimator:\n",
    "    def __init__(self,\n",
    "                 estimator):\n",
    "        self.estimator_obj = estimator\n",
    "        self.estimator_list = []\n",
    "        \n",
    "    def fit(self,\n",
    "            X,\n",
    "            y,\n",
    "            params= {},\n",
    "            categorical=None):\n",
    "        \n",
    "        '''fit X,y to the data'''\n",
    "        \n",
    "        self.params= params\n",
    "        self.estimator = self.estimator_obj(**self.params)\n",
    "        \n",
    "        if categorical:\n",
    "            self.estimator.fit(X,y,\n",
    "                               cat_features = categorical)\n",
    "        else:\n",
    "            self.estimator.fit(X,y)\n",
    "            \n",
    "        return None\n",
    "            \n",
    "    def predict(self,X_test):\n",
    "        '''predict using estimator'''\n",
    "        \n",
    "        if not self.estimator:\n",
    "            print(\"Fit the model using 'model.fit(X,y)' first!\")\n",
    "            \n",
    "        return self.estimator.predict(X_test)\n",
    "    \n",
    "    def fit_in_folds(self,\n",
    "                     X,\n",
    "                     y,\n",
    "                     categorical=None,\n",
    "                     params={},\n",
    "                     eval_metric = mean_squared_error,\n",
    "                     cv=KFold(n_splits=10)):\n",
    "        '''fit multiple models using k-fold cross validation strategy'''\n",
    "        \n",
    "        self.params = params\n",
    "           \n",
    "\n",
    "        for train_idx,val_idx in cv.split(X,y):\n",
    "\n",
    "            x_t,x_v=X.iloc[train_idx],X.iloc[val_idx]\n",
    "            y_t,y_v=y.iloc[train_idx],y.iloc[val_idx]\n",
    "\n",
    "            self.estimator=self.estimator_obj(**self.params)    \n",
    "\n",
    "\n",
    "            if categorical:\n",
    "                self.estimator.fit(x_t,y_t,\n",
    "                                   cat_features = categorical)\n",
    "            else:\n",
    "                self.estimator.fit(x_t,y_t)\n",
    "\n",
    "            n = 0 \n",
    "            print('Validation score for fold {} is {}'.format(n,eval_metric(y_v,\n",
    "                                                                           self.estimator.predict(x_v)\n",
    "                                                                          )\n",
    "                                                              )\n",
    "                 )\n",
    "            \n",
    "            print(f'fitted on {n+1} folds')\n",
    "            \n",
    "            \n",
    "            n+=1\n",
    "\n",
    "            self.estimator_list.append(self.estimator) # store fitted models\n",
    "\n",
    "            \n",
    "\n",
    "        return None\n",
    "\n",
    "    def predict_in_folds(self,\n",
    "                         X_test):\n",
    "        \n",
    "        if len(self.estimator_list) <1:\n",
    "            print(\"Fit the data on multiple folds by calling 'model.fit_in_folds(X,y)' \")\n",
    "        else:\n",
    "            predictions_list = []\n",
    "            for model in self.estimator_list:\n",
    "                pred = model.predict(X_test)\n",
    "                \n",
    "                predictions_list.append(pred)\n",
    "                \n",
    "            predictions = np.array(predictions_list).T  # (n,m) dim array, where n is number of examples and m is number of models\n",
    "        \n",
    "        \n",
    "        return predictions\n",
    "            \n",
    "    def aggregate_predictions(self,\n",
    "                              predictions,\n",
    "                              agg='mean'):\n",
    "        '''aggregate predictions'''\n",
    "        \n",
    "        \n",
    "        if agg == 'mean':\n",
    "            return predictions.mean(axis=1)\n",
    "        elif agg == 'median':\n",
    "            return np.median(a= predictions,\n",
    "                             axis=1)\n",
    "                   \n",
    "        else:\n",
    "            print(\"assign 'agg' to either of ['mean','median']\")\n",
    "            \n",
    "            return None\n",
    "            "
   ]
  },
  {
   "cell_type": "code",
   "execution_count": null,
   "id": "51755643-9e3f-4e9c-8c53-b200cdb3c8b3",
   "metadata": {},
   "outputs": [
    {
     "name": "stdout",
     "output_type": "stream",
     "text": [
      "Validation score for fold 0 is 286.2400624274179\n",
      "fitted on 1 folds\n",
      "Validation score for fold 0 is 469.34984020462053\n",
      "fitted on 1 folds\n",
      "Validation score for fold 0 is 253.145930473861\n",
      "fitted on 1 folds\n",
      "Validation score for fold 0 is 275.83963380303715\n",
      "fitted on 1 folds\n",
      "Validation score for fold 0 is 297.2461613611982\n",
      "fitted on 1 folds\n",
      "Validation score for fold 0 is 315.91595356479\n",
      "fitted on 1 folds\n",
      "Validation score for fold 0 is 298.87676123697054\n",
      "fitted on 1 folds\n",
      "Validation score for fold 0 is 299.87870257220146\n",
      "fitted on 1 folds\n"
     ]
    }
   ],
   "source": [
    "%%time\n",
    "\n",
    "estimator = my_estimator(estimator=CatBoostRegressor)\n",
    "\n",
    "\n",
    "estimator.fit_in_folds(X = x_train,y = y_train,\n",
    "                      categorical=None,\n",
    "                      params=cfg.best_params,\n",
    "                      eval_metric = mean_squared_error,\n",
    "                      cv=KFold(n_splits=10))"
   ]
  },
  {
   "cell_type": "code",
   "execution_count": 14,
   "id": "43301de8-ce07-4518-94e4-7c9cb7f26a8f",
   "metadata": {},
   "outputs": [
    {
     "name": "stdout",
     "output_type": "stream",
     "text": [
      "R2 score of mean value pred on test set is 0.351571253847887\n",
      "R2 score of median value pred on test set is 0.3529878157589246\n"
     ]
    }
   ],
   "source": [
    "# prediction on validation data\n",
    "predictions_val = estimator.predict_in_folds(X_test = x_val)\n",
    "\n",
    "\n",
    "#get mean value of predictions\n",
    "mean_pred_val = estimator.aggregate_predictions(predictions = predictions_val,\n",
    "                                                agg='mean')\n",
    "print(f'R2 score of mean value pred on test set is {r2_score(y_val,mean_pred_val)}')\n",
    "\n",
    "#get median value of predictions\n",
    "med_pred_val = estimator.aggregate_predictions(predictions = predictions_val,\n",
    "                                                agg='median')\n",
    "print(f'R2 score of median value pred on test set is {r2_score(y_val,med_pred_val)}')"
   ]
  },
  {
   "cell_type": "code",
   "execution_count": 16,
   "id": "37ce60ce-682b-4d77-b80e-cdd1434a6c09",
   "metadata": {},
   "outputs": [],
   "source": [
    "#predict on test\n",
    "test_pred = estimator.predict_in_folds(X_test = X_test)\n",
    "\n",
    "mean_test = estimator.aggregate_predictions(predictions = test_pred,\n",
    "                                                agg='mean')\n",
    "\n",
    "med_test = estimator.aggregate_predictions(predictions = test_pred,\n",
    "                                                agg='median')\n"
   ]
  },
  {
   "cell_type": "code",
   "execution_count": 31,
   "id": "3d09645a-6538-4f42-a7e5-8912f3eaa03c",
   "metadata": {},
   "outputs": [
    {
     "data": {
      "text/plain": [
       "(15884, 4)"
      ]
     },
     "execution_count": 31,
     "metadata": {},
     "output_type": "execute_result"
    }
   ],
   "source": [
    "test_pred_df = pd.DataFrame({'datetime':test_ids.datetime,\n",
    "                             'grid_id' :test_ids.grid_id,\n",
    "                             'value':med_test})\n",
    "\n",
    "test_pred_df['day'] = pd.to_datetime(test_pred_df.datetime).dt.date\n",
    "\n",
    "test_pred_df2 = pd.DataFrame({'datetime':test_ids.datetime,\n",
    "                             'grid_id' :test_ids.grid_id,\n",
    "                             'value':mean_test})\n",
    "\n",
    "test_pred_df2['day'] = pd.to_datetime(test_pred_df2.datetime).dt.date\n",
    "\n",
    "\n",
    "test_pred_df.shape"
   ]
  },
  {
   "cell_type": "code",
   "execution_count": 32,
   "id": "d6c4e6ac-eb71-4f3d-acc6-bcfc2431be60",
   "metadata": {},
   "outputs": [
    {
     "data": {
      "text/plain": [
       "(16350, 4)"
      ]
     },
     "execution_count": 32,
     "metadata": {},
     "output_type": "execute_result"
    }
   ],
   "source": [
    "sample_sub.shape"
   ]
  },
  {
   "cell_type": "code",
   "execution_count": 33,
   "id": "40ae956c-34e0-4b85-ad4b-c4e1c80921e0",
   "metadata": {},
   "outputs": [
    {
     "data": {
      "text/html": [
       "<div>\n",
       "<style scoped>\n",
       "    .dataframe tbody tr th:only-of-type {\n",
       "        vertical-align: middle;\n",
       "    }\n",
       "\n",
       "    .dataframe tbody tr th {\n",
       "        vertical-align: top;\n",
       "    }\n",
       "\n",
       "    .dataframe thead th {\n",
       "        text-align: right;\n",
       "    }\n",
       "</style>\n",
       "<table border=\"1\" class=\"dataframe\">\n",
       "  <thead>\n",
       "    <tr style=\"text-align: right;\">\n",
       "      <th></th>\n",
       "      <th>datetime</th>\n",
       "      <th>grid_id</th>\n",
       "      <th>value</th>\n",
       "      <th>day</th>\n",
       "    </tr>\n",
       "  </thead>\n",
       "  <tbody>\n",
       "    <tr>\n",
       "      <th>0</th>\n",
       "      <td>2018-09-08T08:00:00Z</td>\n",
       "      <td>3A3IE</td>\n",
       "      <td>0.0</td>\n",
       "      <td>2018-09-08</td>\n",
       "    </tr>\n",
       "    <tr>\n",
       "      <th>1</th>\n",
       "      <td>2018-09-08T08:00:00Z</td>\n",
       "      <td>3S31A</td>\n",
       "      <td>0.0</td>\n",
       "      <td>2018-09-08</td>\n",
       "    </tr>\n",
       "    <tr>\n",
       "      <th>2</th>\n",
       "      <td>2018-09-08T08:00:00Z</td>\n",
       "      <td>7II4T</td>\n",
       "      <td>0.0</td>\n",
       "      <td>2018-09-08</td>\n",
       "    </tr>\n",
       "    <tr>\n",
       "      <th>3</th>\n",
       "      <td>2018-09-08T08:00:00Z</td>\n",
       "      <td>8BOQH</td>\n",
       "      <td>0.0</td>\n",
       "      <td>2018-09-08</td>\n",
       "    </tr>\n",
       "    <tr>\n",
       "      <th>4</th>\n",
       "      <td>2018-09-08T08:00:00Z</td>\n",
       "      <td>A2FBI</td>\n",
       "      <td>0.0</td>\n",
       "      <td>2018-09-08</td>\n",
       "    </tr>\n",
       "  </tbody>\n",
       "</table>\n",
       "</div>"
      ],
      "text/plain": [
       "               datetime grid_id  value         day\n",
       "0  2018-09-08T08:00:00Z   3A3IE    0.0  2018-09-08\n",
       "1  2018-09-08T08:00:00Z   3S31A    0.0  2018-09-08\n",
       "2  2018-09-08T08:00:00Z   7II4T    0.0  2018-09-08\n",
       "3  2018-09-08T08:00:00Z   8BOQH    0.0  2018-09-08\n",
       "4  2018-09-08T08:00:00Z   A2FBI    0.0  2018-09-08"
      ]
     },
     "execution_count": 33,
     "metadata": {},
     "output_type": "execute_result"
    }
   ],
   "source": [
    "sample_sub['day'] = pd.to_datetime(sample_sub.datetime).dt.date\n",
    "\n",
    "sample_sub.head()"
   ]
  },
  {
   "cell_type": "code",
   "execution_count": 38,
   "id": "6535376c-7843-4bb7-9725-4d8e223c1aa2",
   "metadata": {},
   "outputs": [
    {
     "data": {
      "text/plain": [
       "(16350, 3)"
      ]
     },
     "execution_count": 38,
     "metadata": {},
     "output_type": "execute_result"
    }
   ],
   "source": [
    "#mean of subs\n",
    "sub_med = sample_sub[['datetime','grid_id','day']].merge(test_pred_df.drop('datetime',axis=1),\n",
    "                                                         on = ['grid_id','day'],\n",
    "                                                         how = 'left')\n",
    "\n",
    "sub_med.drop('day',inplace=True,axis=1)\n",
    "sub_med.shape"
   ]
  },
  {
   "cell_type": "code",
   "execution_count": 45,
   "id": "5994e0d9-1efd-42f4-aea6-1faaf75fee10",
   "metadata": {},
   "outputs": [
    {
     "data": {
      "text/html": [
       "<div>\n",
       "<style scoped>\n",
       "    .dataframe tbody tr th:only-of-type {\n",
       "        vertical-align: middle;\n",
       "    }\n",
       "\n",
       "    .dataframe tbody tr th {\n",
       "        vertical-align: top;\n",
       "    }\n",
       "\n",
       "    .dataframe thead th {\n",
       "        text-align: right;\n",
       "    }\n",
       "</style>\n",
       "<table border=\"1\" class=\"dataframe\">\n",
       "  <thead>\n",
       "    <tr style=\"text-align: right;\">\n",
       "      <th></th>\n",
       "      <th>datetime</th>\n",
       "      <th>grid_id</th>\n",
       "      <th>value</th>\n",
       "    </tr>\n",
       "  </thead>\n",
       "  <tbody>\n",
       "    <tr>\n",
       "      <th>0</th>\n",
       "      <td>2018-09-08T08:00:00Z</td>\n",
       "      <td>3A3IE</td>\n",
       "      <td>19.342390</td>\n",
       "    </tr>\n",
       "    <tr>\n",
       "      <th>1</th>\n",
       "      <td>2018-09-08T08:00:00Z</td>\n",
       "      <td>3S31A</td>\n",
       "      <td>21.105229</td>\n",
       "    </tr>\n",
       "    <tr>\n",
       "      <th>2</th>\n",
       "      <td>2018-09-08T08:00:00Z</td>\n",
       "      <td>7II4T</td>\n",
       "      <td>24.960409</td>\n",
       "    </tr>\n",
       "    <tr>\n",
       "      <th>3</th>\n",
       "      <td>2018-09-08T08:00:00Z</td>\n",
       "      <td>8BOQH</td>\n",
       "      <td>19.072842</td>\n",
       "    </tr>\n",
       "    <tr>\n",
       "      <th>4</th>\n",
       "      <td>2018-09-08T08:00:00Z</td>\n",
       "      <td>A2FBI</td>\n",
       "      <td>25.396187</td>\n",
       "    </tr>\n",
       "  </tbody>\n",
       "</table>\n",
       "</div>"
      ],
      "text/plain": [
       "               datetime grid_id      value\n",
       "0  2018-09-08T08:00:00Z   3A3IE  19.342390\n",
       "1  2018-09-08T08:00:00Z   3S31A  21.105229\n",
       "2  2018-09-08T08:00:00Z   7II4T  24.960409\n",
       "3  2018-09-08T08:00:00Z   8BOQH  19.072842\n",
       "4  2018-09-08T08:00:00Z   A2FBI  25.396187"
      ]
     },
     "execution_count": 45,
     "metadata": {},
     "output_type": "execute_result"
    }
   ],
   "source": [
    "sub_med.head()"
   ]
  },
  {
   "cell_type": "code",
   "execution_count": 50,
   "id": "21979eea-a9b6-4573-b54c-78039b0d9844",
   "metadata": {},
   "outputs": [],
   "source": [
    "#filling null values with bfills and ffill\n",
    "\n",
    "sub_med_filled=sub_med.bfill().ffill()\n",
    "\n",
    "sub_med_filled.to_csv('median.csv',index=False)"
   ]
  },
  {
   "cell_type": "markdown",
   "id": "3f6643fd-4208-4c4a-8c56-528f2b0efd6c",
   "metadata": {},
   "source": [
    "mean of preds"
   ]
  },
  {
   "cell_type": "code",
   "execution_count": 47,
   "id": "6225569c-c184-47d9-b971-2b9680daeea5",
   "metadata": {},
   "outputs": [
    {
     "data": {
      "text/plain": [
       "(16350, 3)"
      ]
     },
     "execution_count": 47,
     "metadata": {},
     "output_type": "execute_result"
    }
   ],
   "source": [
    "#mean of subs\n",
    "sub_med = sample_sub[['datetime','grid_id','day']].merge(test_pred_df2.drop('datetime',axis=1),\n",
    "                                                         on = ['grid_id','day'],\n",
    "                                                         how = 'left')\n",
    "\n",
    "sub_med.drop('day',inplace=True,axis=1)\n",
    "sub_med.shape"
   ]
  },
  {
   "cell_type": "code",
   "execution_count": 48,
   "id": "6888c22a-a00f-4310-b96f-c55e6861a9dd",
   "metadata": {},
   "outputs": [
    {
     "data": {
      "text/html": [
       "<div>\n",
       "<style scoped>\n",
       "    .dataframe tbody tr th:only-of-type {\n",
       "        vertical-align: middle;\n",
       "    }\n",
       "\n",
       "    .dataframe tbody tr th {\n",
       "        vertical-align: top;\n",
       "    }\n",
       "\n",
       "    .dataframe thead th {\n",
       "        text-align: right;\n",
       "    }\n",
       "</style>\n",
       "<table border=\"1\" class=\"dataframe\">\n",
       "  <thead>\n",
       "    <tr style=\"text-align: right;\">\n",
       "      <th></th>\n",
       "      <th>datetime</th>\n",
       "      <th>grid_id</th>\n",
       "      <th>value</th>\n",
       "    </tr>\n",
       "  </thead>\n",
       "  <tbody>\n",
       "    <tr>\n",
       "      <th>0</th>\n",
       "      <td>2018-09-08T08:00:00Z</td>\n",
       "      <td>3A3IE</td>\n",
       "      <td>19.120420</td>\n",
       "    </tr>\n",
       "    <tr>\n",
       "      <th>1</th>\n",
       "      <td>2018-09-08T08:00:00Z</td>\n",
       "      <td>3S31A</td>\n",
       "      <td>20.913107</td>\n",
       "    </tr>\n",
       "    <tr>\n",
       "      <th>2</th>\n",
       "      <td>2018-09-08T08:00:00Z</td>\n",
       "      <td>7II4T</td>\n",
       "      <td>24.780339</td>\n",
       "    </tr>\n",
       "    <tr>\n",
       "      <th>3</th>\n",
       "      <td>2018-09-08T08:00:00Z</td>\n",
       "      <td>8BOQH</td>\n",
       "      <td>19.126924</td>\n",
       "    </tr>\n",
       "    <tr>\n",
       "      <th>4</th>\n",
       "      <td>2018-09-08T08:00:00Z</td>\n",
       "      <td>A2FBI</td>\n",
       "      <td>25.428359</td>\n",
       "    </tr>\n",
       "  </tbody>\n",
       "</table>\n",
       "</div>"
      ],
      "text/plain": [
       "               datetime grid_id      value\n",
       "0  2018-09-08T08:00:00Z   3A3IE  19.120420\n",
       "1  2018-09-08T08:00:00Z   3S31A  20.913107\n",
       "2  2018-09-08T08:00:00Z   7II4T  24.780339\n",
       "3  2018-09-08T08:00:00Z   8BOQH  19.126924\n",
       "4  2018-09-08T08:00:00Z   A2FBI  25.428359"
      ]
     },
     "execution_count": 48,
     "metadata": {},
     "output_type": "execute_result"
    }
   ],
   "source": [
    "sub_med.head()"
   ]
  },
  {
   "cell_type": "code",
   "execution_count": 51,
   "id": "77538cbc-f8da-431f-bd5c-298600c95963",
   "metadata": {},
   "outputs": [],
   "source": [
    "#filling null values with bfills and ffill\n",
    "\n",
    "sub_med_filled=sub_med.bfill().ffill()\n",
    "\n",
    "sub_med_filled.to_csv('mean.csv',index=False)"
   ]
  },
  {
   "cell_type": "code",
   "execution_count": null,
   "id": "9d1d1762-cd12-434f-b1ed-eeb409511924",
   "metadata": {},
   "outputs": [],
   "source": []
  }
 ],
 "metadata": {
  "kernelspec": {
   "display_name": "Python 3 (ipykernel)",
   "language": "python",
   "name": "python3"
  },
  "language_info": {
   "codemirror_mode": {
    "name": "ipython",
    "version": 3
   },
   "file_extension": ".py",
   "mimetype": "text/x-python",
   "name": "python",
   "nbconvert_exporter": "python",
   "pygments_lexer": "ipython3",
   "version": "3.8.12"
  }
 },
 "nbformat": 4,
 "nbformat_minor": 5
}
