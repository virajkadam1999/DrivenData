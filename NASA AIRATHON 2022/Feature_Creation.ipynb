{
 "cells": [
  {
   "cell_type": "markdown",
   "id": "0b80350e-5314-4acd-93ab-43cfabd9cbb0",
   "metadata": {},
   "source": [
    "**imports**"
   ]
  },
  {
   "cell_type": "code",
   "execution_count": 1,
   "id": "5d7ee31a-562a-4c2b-845e-5df521a38e56",
   "metadata": {},
   "outputs": [],
   "source": [
    "import pandas as pd\n",
    "import os\n",
    "import numpy as np \n",
    "from pathlib import Path\n",
    "import geopandas as gpd\n",
    "import matplotlib.pyplot as plt"
   ]
  },
  {
   "cell_type": "markdown",
   "id": "02fe7f05-08c8-473f-9e7b-93897a697e99",
   "metadata": {},
   "source": [
    "**Creating Features**"
   ]
  },
  {
   "cell_type": "code",
   "execution_count": 2,
   "id": "70be0a45-fadc-4b02-a095-39ea1689e7ef",
   "metadata": {},
   "outputs": [],
   "source": [
    "DATA_PATH = Path.cwd().parent / \"data\"\n",
    "RAW = DATA_PATH / \"raw\"\n",
    "INTERIM = DATA_PATH / \"interim\"\n",
    "processed= DATA_PATH / \"processed\""
   ]
  },
  {
   "cell_type": "code",
   "execution_count": 3,
   "id": "27bbf850-3017-4530-a57c-cbadc7a9ce5f",
   "metadata": {},
   "outputs": [
    {
     "data": {
      "text/html": [
       "<div>\n",
       "<style scoped>\n",
       "    .dataframe tbody tr th:only-of-type {\n",
       "        vertical-align: middle;\n",
       "    }\n",
       "\n",
       "    .dataframe tbody tr th {\n",
       "        vertical-align: top;\n",
       "    }\n",
       "\n",
       "    .dataframe thead th {\n",
       "        text-align: right;\n",
       "    }\n",
       "</style>\n",
       "<table border=\"1\" class=\"dataframe\">\n",
       "  <thead>\n",
       "    <tr style=\"text-align: right;\">\n",
       "      <th></th>\n",
       "      <th>datetime</th>\n",
       "      <th>grid_id</th>\n",
       "      <th>no2</th>\n",
       "    </tr>\n",
       "  </thead>\n",
       "  <tbody>\n",
       "    <tr>\n",
       "      <th>0</th>\n",
       "      <td>2019-01-01 08:00:00+00:00</td>\n",
       "      <td>3A3IE</td>\n",
       "      <td>8.695000</td>\n",
       "    </tr>\n",
       "    <tr>\n",
       "      <th>1</th>\n",
       "      <td>2019-01-01 08:00:00+00:00</td>\n",
       "      <td>3S31A</td>\n",
       "      <td>10.496667</td>\n",
       "    </tr>\n",
       "  </tbody>\n",
       "</table>\n",
       "</div>"
      ],
      "text/plain": [
       "                   datetime grid_id        no2\n",
       "0 2019-01-01 08:00:00+00:00   3A3IE   8.695000\n",
       "1 2019-01-01 08:00:00+00:00   3S31A  10.496667"
      ]
     },
     "execution_count": 3,
     "metadata": {},
     "output_type": "execute_result"
    }
   ],
   "source": [
    "train_labels = pd.read_csv(RAW/'train_labels.csv', parse_dates=[\"datetime\"])\n",
    "train_labels.rename(columns={\"value\": \"no2\"}, inplace=True)\n",
    "\n",
    "train_labels.head(2)"
   ]
  },
  {
   "cell_type": "code",
   "execution_count": 4,
   "id": "368c3798-2bf6-4c6a-bd5c-204072d2fbae",
   "metadata": {},
   "outputs": [],
   "source": [
    "#loading preprocessed data\n",
    "train_df = pd.read_csv(INTERIM / 'train_df.csv')\n",
    "test_df = pd.read_csv(INTERIM / 'test_df.csv')"
   ]
  },
  {
   "cell_type": "code",
   "execution_count": 5,
   "id": "9727ab56-301e-4fb3-ac76-a95a083c92e2",
   "metadata": {},
   "outputs": [
    {
     "data": {
      "text/plain": [
       "(15884, 9)"
      ]
     },
     "execution_count": 5,
     "metadata": {},
     "output_type": "execute_result"
    }
   ],
   "source": [
    "test_df.shape"
   ]
  },
  {
   "cell_type": "code",
   "execution_count": 6,
   "id": "cca430bb-d42a-41c9-841d-6dd9cdae9e7d",
   "metadata": {},
   "outputs": [
    {
     "data": {
      "text/plain": [
       "(26403, 9)"
      ]
     },
     "execution_count": 6,
     "metadata": {},
     "output_type": "execute_result"
    }
   ],
   "source": [
    "train_df.shape"
   ]
  },
  {
   "cell_type": "code",
   "execution_count": 7,
   "id": "3c695a54-da8f-44a0-a71c-3b82bfc446ee",
   "metadata": {},
   "outputs": [],
   "source": [
    "# def feature_agg(df,\n",
    "#                 label_df = None,  # provide if train, none if test\n",
    "#                 agg_function_list = ['mean','median','min','max','std','skew','sem'],\n",
    "#                 columns_list = ['trop_no2','trop_no2_cs','col_no2','col_no2_cs']\n",
    "#                ):\n",
    "    \n",
    "#     #copy of features df \n",
    "#     feature_df = df.copy()\n",
    "     \n",
    "#     # Add `day` column to `feature_df` and `label_df`\n",
    "#     feature_df[\"datetime\"] = pd.to_datetime(\n",
    "#         feature_df.granule_id.str.split(\"_\", expand=True)[0],\n",
    "#         format=\"%Y%m%dT%H:%M:%S\",\n",
    "#         utc=True\n",
    "#     )\n",
    "        \n",
    "#     feature_df[\"day\"] = feature_df.datetime.dt.date    \n",
    "    \n",
    "#     #creating a groupby obj \n",
    "#     day_wise_groups = feature_df.groupby([\"grid_id\",\"day\"])\n",
    "    \n",
    "#     dates = feature_df.datetime\n",
    "#     #get location \n",
    "#     locs = day_wise_groups['location'].first()\n",
    "    \n",
    "#     #aggregate \n",
    "#     for i,col in enumerate(columns_list):\n",
    "#         col_aggs = day_wise_groups[col].agg(agg_function_list).\\\n",
    "#                     rename(columns={func:f'{col}-{func}' for func in agg_function_list})\n",
    "        \n",
    "#         if i == 0:\n",
    "#             agg_features =  col_aggs\n",
    "        \n",
    "#         else:\n",
    "#             agg_features = agg_features.merge(col_aggs,\n",
    "#                                               how='inner',\n",
    "#                                               right_index=True,\n",
    "#                                               left_index = True)\n",
    "            \n",
    "    \n",
    "#     agg_features['location'] = locs\n",
    "    \n",
    "#     #other aggs\n",
    "#     agg_features['nulls'] = day_wise_groups['null_fields'].sum()\n",
    "#     agg_features['counts'] = day_wise_groups.size()\n",
    "    \n",
    "#     agg_features['datetime'] = feature_df.datetime\n",
    "#     agg_features.reset_index(inplace=True)\n",
    "#     agg_features.drop('day',axis = 1 ,inplace=True)\n",
    "#     return agg_features\n",
    "    "
   ]
  },
  {
   "cell_type": "code",
   "execution_count": 7,
   "id": "5547f31e-af74-40f5-b8c9-17cce4da4e50",
   "metadata": {},
   "outputs": [],
   "source": [
    "def get_features_df(df,\n",
    "                    labels_df = None,\n",
    "                    mode = 'train',\n",
    "                    ): \n",
    "    #copy of df\n",
    "    feature_df = df.copy()\n",
    "    if mode =='train':\n",
    "        label_df = labels_df.copy()\n",
    "        label_df[\"day\"] = label_df.datetime.dt.date\n",
    "    \n",
    "    \n",
    "    feature_df[\"datetime\"] = pd.to_datetime(\n",
    "        feature_df.granule_id.str.split(\"_\", expand=True)[0],\n",
    "        format=\"%Y%m%dT%H:%M:%S\",\n",
    "        utc=True\n",
    "    )\n",
    "    feature_df[\"day\"] = feature_df.datetime.dt.date\n",
    "    \n",
    "    #one hot encoding locations\n",
    "    location_ohe = pd.get_dummies(feature_df['location'],\n",
    "                                  drop_first = False)\n",
    "    \n",
    "    feature_df.drop('location',axis=1,inplace=True)\n",
    "    feature_df = feature_df.merge(location_ohe,\n",
    "                            how='inner',\n",
    "                            right_index = True,\n",
    "                            left_index  = True)\n",
    "    \n",
    "    if mode == 'train':\n",
    "        \n",
    "        # Join labels/submission format with feature data\n",
    "        how = \"inner\" if mode == \"train\" else \"left\"\n",
    "        data = pd.merge(\n",
    "            label_df[['grid_id','day','no2']],\n",
    "            feature_df,\n",
    "            how=how,\n",
    "            left_on=[\"day\", \"grid_id\"],\n",
    "            right_on=[\"day\", \"grid_id\"]\n",
    "                        )\n",
    "\n",
    "        return data\n",
    "    \n",
    "    return feature_df\n"
   ]
  },
  {
   "cell_type": "code",
   "execution_count": 8,
   "id": "683260e6-5f04-4490-ac36-850dc3558af7",
   "metadata": {},
   "outputs": [],
   "source": [
    "train = get_features_df(df=train_df,\n",
    "                    labels_df =train_labels)\n",
    "    \n",
    "test = get_features_df(df=test_df,\n",
    "                    mode = 'test')\n",
    "    "
   ]
  },
  {
   "cell_type": "code",
   "execution_count": 9,
   "id": "bac366aa-2803-4154-ab9d-3f602b4ae3b4",
   "metadata": {},
   "outputs": [],
   "source": [
    "def time_features(df,col):\n",
    "    '''extract features from time_stamps'''\n",
    "    df['year']=df[col].dt.year - 2018\n",
    "    df['month']=df[col].dt.month\n",
    "    # df['hour']=df[col].dt.hour\n",
    "    \n",
    "    # df.drop(col,inplace=True,axis=1)\n",
    "    return df\n",
    "\n",
    "train=time_features(train,'datetime')\n",
    "test=time_features(test,'datetime')\n",
    "\n",
    "def time_encodings(df):\n",
    "    df['cos_'+'month']=np.cos(2.*np.pi*df['month']/12)\n",
    "    df['sin_'+'month']=np.sin(2.*np.pi*df['month']/12)\n",
    "    \n",
    "    # df['cos_'+'hour']=np.cos(2.*np.pi*df['hour']/12)\n",
    "    # df['sin_'+'hour']=np.sin(2.*np.pi*df['hour']/12)\n",
    "    \n",
    "    df.drop(['month'],axis=1,inplace=True)\n",
    "    \n",
    "    return df \n",
    "    \n",
    "train=time_encodings(train)\n",
    "test=time_encodings(test)"
   ]
  },
  {
   "cell_type": "code",
   "execution_count": 10,
   "id": "8b9a7a3e-f809-4276-8462-9dbe4eac8eef",
   "metadata": {},
   "outputs": [],
   "source": [
    "#reset index\n",
    "\n",
    "train.reset_index(drop=True,inplace=True)\n",
    "test.reset_index(drop=True,inplace=True)"
   ]
  },
  {
   "cell_type": "code",
   "execution_count": 11,
   "id": "5527a60d-d56d-41e1-8895-d6b64662054e",
   "metadata": {},
   "outputs": [],
   "source": [
    "#saving train and test ids \n",
    "\n",
    "test[['grid_id','datetime']].to_csv(processed / \"test_ids.csv\",index=False)\n",
    "train[['grid_id','datetime']].to_csv(processed / \"train_ids.csv\",index=False)\n"
   ]
  },
  {
   "cell_type": "code",
   "execution_count": 12,
   "id": "e001a0b8-e175-4971-a639-165c5ab9d44b",
   "metadata": {},
   "outputs": [
    {
     "data": {
      "text/plain": [
       "(21320, 16)"
      ]
     },
     "execution_count": 12,
     "metadata": {},
     "output_type": "execute_result"
    }
   ],
   "source": [
    "train.shape"
   ]
  },
  {
   "cell_type": "code",
   "execution_count": 13,
   "id": "acd7b83b-8514-49ac-9715-245d2c371331",
   "metadata": {},
   "outputs": [
    {
     "data": {
      "text/plain": [
       "(15884, 15)"
      ]
     },
     "execution_count": 13,
     "metadata": {},
     "output_type": "execute_result"
    }
   ],
   "source": [
    "test.shape"
   ]
  },
  {
   "cell_type": "code",
   "execution_count": 14,
   "id": "9ef423b0-b6d1-4b07-b763-509189fe82f7",
   "metadata": {},
   "outputs": [],
   "source": [
    "drop_cols = ['day','geometry','granule_id','grid_id']\n",
    "target = ['no2']"
   ]
  },
  {
   "cell_type": "code",
   "execution_count": 15,
   "id": "7761d5c1-ac3c-4229-a507-a03ed8c538b6",
   "metadata": {},
   "outputs": [],
   "source": [
    "train = train.drop(drop_cols,axis=1)\n",
    "test = test.drop(drop_cols,axis=1)"
   ]
  },
  {
   "cell_type": "code",
   "execution_count": 16,
   "id": "8f231fda-4558-4305-a933-9a0b5aa11d02",
   "metadata": {},
   "outputs": [
    {
     "data": {
      "text/plain": [
       "{'no2'}"
      ]
     },
     "execution_count": 16,
     "metadata": {},
     "output_type": "execute_result"
    }
   ],
   "source": [
    "set(train.columns) - set(test.columns)\n",
    "# assert len(set(train.columns) - set(test.columns)) ==0 , 'feels like Im knocking on heavens door'"
   ]
  },
  {
   "cell_type": "code",
   "execution_count": 17,
   "id": "25991d85-1f26-4738-b3ec-5b8d435f24f2",
   "metadata": {},
   "outputs": [],
   "source": [
    "#saving train /test set\n",
    "\n",
    "train.to_csv(processed / \"train.csv\",index=False)\n",
    "test.to_csv(processed / \"test.csv\",index=False)"
   ]
  },
  {
   "cell_type": "code",
   "execution_count": null,
   "id": "9a9b1b07-dd44-4d1a-909a-6bbac2e5044a",
   "metadata": {},
   "outputs": [],
   "source": []
  }
 ],
 "metadata": {
  "kernelspec": {
   "display_name": "Python 3 (ipykernel)",
   "language": "python",
   "name": "python3"
  },
  "language_info": {
   "codemirror_mode": {
    "name": "ipython",
    "version": 3
   },
   "file_extension": ".py",
   "mimetype": "text/x-python",
   "name": "python",
   "nbconvert_exporter": "python",
   "pygments_lexer": "ipython3",
   "version": "3.8.12"
  }
 },
 "nbformat": 4,
 "nbformat_minor": 5
}
