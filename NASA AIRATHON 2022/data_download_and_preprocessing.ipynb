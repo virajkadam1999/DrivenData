{
 "cells": [
  {
   "cell_type": "markdown",
   "id": "21c9163a-c095-490a-8d97-caa0a91af689",
   "metadata": {},
   "source": [
    "<h1 style='color:green'> NASA - Airathon</h1> "
   ]
  },
  {
   "cell_type": "markdown",
   "id": "f506408b-d557-40be-b5c9-c830709cc0a1",
   "metadata": {},
   "source": [
    "# Downloading OMI NO2 data from the following directory structure\n",
    "\n",
    "    |--- no2\n",
    "    |    |--- train\n",
    "    |    |    |--- omi\n",
    "    |    |    |    |___ <years>\n",
    "    |    |    |         |___ <files>\n",
    "    |    |    |___ tropomi\n",
    "    |    |    |    |___ <years>\n",
    "    |    |    |         |___ <files>\n",
    "    |    |    |___ tropomi_hires\n",
    "    |    |         |___ <years>\n",
    "    |    |              |___ <files>\n",
    "    |    |___ test\n",
    "    |         |--- omi\n",
    "    |         |    |___ <years>\n",
    "    |         |         |___ <files>\n",
    "    |         |___ tropomi\n",
    "    |         |    |___ <years>\n",
    "    |         |         |___ <files>\n",
    "    |         |___ tropomi_hires\n",
    "    |              |___ <years>\n",
    "    |                   |___ <files> "
   ]
  },
  {
   "cell_type": "code",
   "execution_count": 1,
   "id": "a2db046e-52d5-4e71-b133-dcd5307cbc98",
   "metadata": {},
   "outputs": [],
   "source": [
    "#path to store omi data \n",
    "storage_path_train = '../data/external/train'\n",
    "storage_path_test = '../data/external/test'\n",
    "\n",
    "# training data path (to download data from)\n",
    "train_s3_path = 's3://drivendata-competition-airathon-public-us/no2/train/omi/'\n",
    "\n",
    "#test data path \n",
    "test_s3_path = 's3://drivendata-competition-airathon-public-us/no2/test/omi/'"
   ]
  },
  {
   "cell_type": "code",
   "execution_count": 13,
   "id": "77291c72-d290-4db4-a5fc-e4e6af4a13f8",
   "metadata": {},
   "outputs": [],
   "source": [
    "#downloading train data to '../data/external/'\n",
    "\n",
    "!aws s3 cp $train_s3_path $storage_path_train --no-sign-request --recursive --quiet"
   ]
  },
  {
   "cell_type": "code",
   "execution_count": null,
   "id": "4700a5f8-428e-436c-a089-00caf1dce02e",
   "metadata": {},
   "outputs": [],
   "source": [
    "#downloading train data to '../data/external/'\n",
    "\n",
    "!aws s3 cp $test_s3_path $storage_path_test --no-sign-request --recursive --quiet"
   ]
  },
  {
   "cell_type": "markdown",
   "id": "ad7787f1-3656-44ac-9442-67cd7909ebad",
   "metadata": {},
   "source": [
    "# Resources \n",
    "\n",
    "* https://www.drivendata.co/blog/predict-pm25-benchmark/\n",
    "* https://www.drivendata.co/blog/predict-no2-benchmark/"
   ]
  },
  {
   "cell_type": "markdown",
   "id": "5ef64e5e-057d-4c88-a4b7-02f47e9347d4",
   "metadata": {},
   "source": [
    "<h2 style='color:green'> Imports</h>"
   ]
  },
  {
   "cell_type": "code",
   "execution_count": 2,
   "id": "bea23efa-7aa6-4721-9bfc-8b51b4c33d88",
   "metadata": {},
   "outputs": [],
   "source": [
    "!pip install pqdm -q"
   ]
  },
  {
   "cell_type": "code",
   "execution_count": 3,
   "id": "668728f7-e30f-4e75-a30d-0c027260b699",
   "metadata": {},
   "outputs": [],
   "source": [
    "import os\n",
    "import random\n",
    "import warnings\n",
    "import re\n",
    "from typing import Dict, List, Optional\n",
    "from pathlib import Path\n",
    "\n",
    "from h5py import File\n",
    "from h5py import Dataset\n",
    "import pandas as pd\n",
    "import numpy as np\n",
    "import matplotlib.pyplot as plt\n",
    "\n",
    "import geopandas as gpd\n",
    "import pyproj\n",
    "import rasterio\n",
    "from pqdm.processes import pqdm\n",
    "\n",
    "from pyproj import CRS\n",
    "\n",
    "wgs84_crs = CRS.from_epsg(\"4326\")\n",
    "#save requirements.txt\n",
    "# !pip freeze > requirements.txt\n",
    "\n",
    "#filter warnings\n",
    "warnings.simplefilter(action='ignore', category=UserWarning)"
   ]
  },
  {
   "cell_type": "code",
   "execution_count": 4,
   "id": "537ddffa-f7a2-422b-955f-d6e0b5cb729d",
   "metadata": {},
   "outputs": [],
   "source": [
    "# directories for data storage\n",
    "DATA_PATH = Path.cwd().parent / \"data\"\n",
    "RAW = DATA_PATH / \"raw\"\n",
    "INTERIM = DATA_PATH / \"interim\"\n"
   ]
  },
  {
   "cell_type": "markdown",
   "id": "66975c4d-3423-4ff3-9119-de13aa5c1ea4",
   "metadata": {},
   "source": [
    "# loading metadata"
   ]
  },
  {
   "cell_type": "code",
   "execution_count": 5,
   "id": "a9bc777e-621c-4f09-b373-228b2c14be47",
   "metadata": {},
   "outputs": [
    {
     "data": {
      "text/html": [
       "<div>\n",
       "<style scoped>\n",
       "    .dataframe tbody tr th:only-of-type {\n",
       "        vertical-align: middle;\n",
       "    }\n",
       "\n",
       "    .dataframe tbody tr th {\n",
       "        vertical-align: top;\n",
       "    }\n",
       "\n",
       "    .dataframe thead th {\n",
       "        text-align: right;\n",
       "    }\n",
       "</style>\n",
       "<table border=\"1\" class=\"dataframe\">\n",
       "  <thead>\n",
       "    <tr style=\"text-align: right;\">\n",
       "      <th></th>\n",
       "      <th>datetime</th>\n",
       "      <th>grid_id</th>\n",
       "      <th>no2</th>\n",
       "    </tr>\n",
       "  </thead>\n",
       "  <tbody>\n",
       "    <tr>\n",
       "      <th>0</th>\n",
       "      <td>2019-01-01 08:00:00+00:00</td>\n",
       "      <td>3A3IE</td>\n",
       "      <td>8.695000</td>\n",
       "    </tr>\n",
       "    <tr>\n",
       "      <th>1</th>\n",
       "      <td>2019-01-01 08:00:00+00:00</td>\n",
       "      <td>3S31A</td>\n",
       "      <td>10.496667</td>\n",
       "    </tr>\n",
       "  </tbody>\n",
       "</table>\n",
       "</div>"
      ],
      "text/plain": [
       "                   datetime grid_id        no2\n",
       "0 2019-01-01 08:00:00+00:00   3A3IE   8.695000\n",
       "1 2019-01-01 08:00:00+00:00   3S31A  10.496667"
      ]
     },
     "execution_count": 5,
     "metadata": {},
     "output_type": "execute_result"
    }
   ],
   "source": [
    "train_meta = pd.read_csv(\n",
    "    RAW / \"no2_satellite_metadata_0AF3h09.csv\",\n",
    "    parse_dates=[\"time_start\", \"time_end\"],\n",
    "    index_col=0\n",
    ")\n",
    "\n",
    "grid_meta = pd.read_csv(\n",
    "    RAW / \"grid_metadata.csv\",\n",
    "    index_col=0\n",
    "                        )\n",
    "\n",
    "train_labels = pd.read_csv(RAW/'train_labels.csv', parse_dates=[\"datetime\"])\n",
    "train_labels.rename(columns={\"value\": \"no2\"}, inplace=True)\n",
    "\n",
    "train_labels.head(2)"
   ]
  },
  {
   "cell_type": "code",
   "execution_count": 6,
   "id": "0c5d3173-049d-4611-bae6-9f2d74186118",
   "metadata": {},
   "outputs": [
    {
     "data": {
      "text/html": [
       "<div>\n",
       "<style scoped>\n",
       "    .dataframe tbody tr th:only-of-type {\n",
       "        vertical-align: middle;\n",
       "    }\n",
       "\n",
       "    .dataframe tbody tr th {\n",
       "        vertical-align: top;\n",
       "    }\n",
       "\n",
       "    .dataframe thead th {\n",
       "        text-align: right;\n",
       "    }\n",
       "</style>\n",
       "<table border=\"1\" class=\"dataframe\">\n",
       "  <thead>\n",
       "    <tr style=\"text-align: right;\">\n",
       "      <th></th>\n",
       "      <th>location</th>\n",
       "      <th>tz</th>\n",
       "      <th>wkt</th>\n",
       "    </tr>\n",
       "    <tr>\n",
       "      <th>grid_id</th>\n",
       "      <th></th>\n",
       "      <th></th>\n",
       "      <th></th>\n",
       "    </tr>\n",
       "  </thead>\n",
       "  <tbody>\n",
       "    <tr>\n",
       "      <th>1X116</th>\n",
       "      <td>Taipei</td>\n",
       "      <td>Asia/Taipei</td>\n",
       "      <td>POLYGON ((121.5257644471362 24.97766123020391,...</td>\n",
       "    </tr>\n",
       "    <tr>\n",
       "      <th>1Z2W7</th>\n",
       "      <td>Delhi</td>\n",
       "      <td>Asia/Calcutta</td>\n",
       "      <td>POLYGON ((77.30453178416276 28.54664454217707,...</td>\n",
       "    </tr>\n",
       "  </tbody>\n",
       "</table>\n",
       "</div>"
      ],
      "text/plain": [
       "        location             tz  \\\n",
       "grid_id                           \n",
       "1X116     Taipei    Asia/Taipei   \n",
       "1Z2W7      Delhi  Asia/Calcutta   \n",
       "\n",
       "                                                       wkt  \n",
       "grid_id                                                     \n",
       "1X116    POLYGON ((121.5257644471362 24.97766123020391,...  \n",
       "1Z2W7    POLYGON ((77.30453178416276 28.54664454217707,...  "
      ]
     },
     "execution_count": 6,
     "metadata": {},
     "output_type": "execute_result"
    }
   ],
   "source": [
    "#checking the grid data. Each grid cell has a 5-character alphanumeric grid_id that uniquely identifies a \n",
    "# 5 x 5 km grid cell and is associated with an observation in our train or test set.\n",
    "grid_meta.head(2)"
   ]
  },
  {
   "cell_type": "code",
   "execution_count": 7,
   "id": "eae9878b-bec6-4bfa-892e-e5e8fba75a96",
   "metadata": {},
   "outputs": [
    {
     "data": {
      "text/html": [
       "<div>\n",
       "<style scoped>\n",
       "    .dataframe tbody tr th:only-of-type {\n",
       "        vertical-align: middle;\n",
       "    }\n",
       "\n",
       "    .dataframe tbody tr th {\n",
       "        vertical-align: top;\n",
       "    }\n",
       "\n",
       "    .dataframe thead th {\n",
       "        text-align: right;\n",
       "    }\n",
       "</style>\n",
       "<table border=\"1\" class=\"dataframe\">\n",
       "  <thead>\n",
       "    <tr style=\"text-align: right;\">\n",
       "      <th></th>\n",
       "      <th>time_start</th>\n",
       "      <th>time_end</th>\n",
       "      <th>product</th>\n",
       "      <th>location</th>\n",
       "      <th>split</th>\n",
       "      <th>us_url</th>\n",
       "      <th>eu_url</th>\n",
       "      <th>as_url</th>\n",
       "      <th>cksum</th>\n",
       "      <th>granule_size</th>\n",
       "    </tr>\n",
       "    <tr>\n",
       "      <th>granule_id</th>\n",
       "      <th></th>\n",
       "      <th></th>\n",
       "      <th></th>\n",
       "      <th></th>\n",
       "      <th></th>\n",
       "      <th></th>\n",
       "      <th></th>\n",
       "      <th></th>\n",
       "      <th></th>\n",
       "      <th></th>\n",
       "    </tr>\n",
       "  </thead>\n",
       "  <tbody>\n",
       "    <tr>\n",
       "      <th>20190101T213357_tropomi_la_0.nc</th>\n",
       "      <td>2019-01-01 20:35:33+00:00</td>\n",
       "      <td>2019-01-01 21:33:57+00:00</td>\n",
       "      <td>tropomi</td>\n",
       "      <td>la</td>\n",
       "      <td>train</td>\n",
       "      <td>s3://drivendata-competition-airathon-public-us...</td>\n",
       "      <td>s3://drivendata-competition-airathon-public-eu...</td>\n",
       "      <td>s3://drivendata-competition-airathon-public-as...</td>\n",
       "      <td>1611277770</td>\n",
       "      <td>332149977</td>\n",
       "    </tr>\n",
       "    <tr>\n",
       "      <th>20190102T211456_tropomi_la_0.nc</th>\n",
       "      <td>2019-01-02 20:16:33+00:00</td>\n",
       "      <td>2019-01-02 21:14:56+00:00</td>\n",
       "      <td>tropomi</td>\n",
       "      <td>la</td>\n",
       "      <td>train</td>\n",
       "      <td>s3://drivendata-competition-airathon-public-us...</td>\n",
       "      <td>s3://drivendata-competition-airathon-public-eu...</td>\n",
       "      <td>s3://drivendata-competition-airathon-public-as...</td>\n",
       "      <td>1146925070</td>\n",
       "      <td>334150299</td>\n",
       "    </tr>\n",
       "  </tbody>\n",
       "</table>\n",
       "</div>"
      ],
      "text/plain": [
       "                                               time_start  \\\n",
       "granule_id                                                  \n",
       "20190101T213357_tropomi_la_0.nc 2019-01-01 20:35:33+00:00   \n",
       "20190102T211456_tropomi_la_0.nc 2019-01-02 20:16:33+00:00   \n",
       "\n",
       "                                                 time_end  product location  \\\n",
       "granule_id                                                                    \n",
       "20190101T213357_tropomi_la_0.nc 2019-01-01 21:33:57+00:00  tropomi       la   \n",
       "20190102T211456_tropomi_la_0.nc 2019-01-02 21:14:56+00:00  tropomi       la   \n",
       "\n",
       "                                 split  \\\n",
       "granule_id                               \n",
       "20190101T213357_tropomi_la_0.nc  train   \n",
       "20190102T211456_tropomi_la_0.nc  train   \n",
       "\n",
       "                                                                            us_url  \\\n",
       "granule_id                                                                           \n",
       "20190101T213357_tropomi_la_0.nc  s3://drivendata-competition-airathon-public-us...   \n",
       "20190102T211456_tropomi_la_0.nc  s3://drivendata-competition-airathon-public-us...   \n",
       "\n",
       "                                                                            eu_url  \\\n",
       "granule_id                                                                           \n",
       "20190101T213357_tropomi_la_0.nc  s3://drivendata-competition-airathon-public-eu...   \n",
       "20190102T211456_tropomi_la_0.nc  s3://drivendata-competition-airathon-public-eu...   \n",
       "\n",
       "                                                                            as_url  \\\n",
       "granule_id                                                                           \n",
       "20190101T213357_tropomi_la_0.nc  s3://drivendata-competition-airathon-public-as...   \n",
       "20190102T211456_tropomi_la_0.nc  s3://drivendata-competition-airathon-public-as...   \n",
       "\n",
       "                                      cksum  granule_size  \n",
       "granule_id                                                 \n",
       "20190101T213357_tropomi_la_0.nc  1611277770     332149977  \n",
       "20190102T211456_tropomi_la_0.nc  1146925070     334150299  "
      ]
     },
     "execution_count": 7,
     "metadata": {},
     "output_type": "execute_result"
    }
   ],
   "source": [
    "#checking the train metadata\n",
    "train_meta.head(2)"
   ]
  },
  {
   "cell_type": "code",
   "execution_count": 8,
   "id": "6019759d-06e2-45e3-9a09-4e1ce8ab85a2",
   "metadata": {},
   "outputs": [
    {
     "data": {
      "text/plain": [
       "train    3156\n",
       "test     1857\n",
       "Name: split, dtype: int64"
      ]
     },
     "execution_count": 8,
     "metadata": {},
     "output_type": "execute_result"
    }
   ],
   "source": [
    "train_meta['split'].value_counts()"
   ]
  },
  {
   "cell_type": "code",
   "execution_count": 9,
   "id": "782ccb97-86ef-4f93-b3cf-2ebf538f255f",
   "metadata": {},
   "outputs": [
    {
     "data": {
      "text/plain": [
       "tropomi_hires    2750\n",
       "tropomi          1193\n",
       "omi              1070\n",
       "Name: product, dtype: int64"
      ]
     },
     "execution_count": 9,
     "metadata": {},
     "output_type": "execute_result"
    }
   ],
   "source": [
    "train_meta['product'].value_counts()"
   ]
  },
  {
   "cell_type": "code",
   "execution_count": 10,
   "id": "8db3d24c-0fa8-4b37-a400-6bec3097b67f",
   "metadata": {},
   "outputs": [
    {
     "data": {
      "text/plain": [
       "la           1461\n",
       "dl           1262\n",
       "tpe          1220\n",
       "dl-la-tpe    1070\n",
       "Name: location, dtype: int64"
      ]
     },
     "execution_count": 10,
     "metadata": {},
     "output_type": "execute_result"
    }
   ],
   "source": [
    "train_meta['location'].value_counts()"
   ]
  },
  {
   "cell_type": "markdown",
   "id": "ac5f14cb-80af-4cde-95e4-43c92a6bbb34",
   "metadata": {},
   "source": [
    "**Taking data from only omi**"
   ]
  },
  {
   "cell_type": "code",
   "execution_count": 11,
   "id": "06ae0109-eafe-4364-b316-fe0dee806210",
   "metadata": {},
   "outputs": [
    {
     "data": {
      "text/plain": [
       "(1070, 10)"
      ]
     },
     "execution_count": 11,
     "metadata": {},
     "output_type": "execute_result"
    }
   ],
   "source": [
    "omi_meta = train_meta[train_meta['product']=='omi']\n",
    "omi_meta.shape"
   ]
  },
  {
   "cell_type": "code",
   "execution_count": 12,
   "id": "a69a0986-80b7-48bc-9ba2-ca9a049da935",
   "metadata": {},
   "outputs": [
    {
     "name": "stderr",
     "output_type": "stream",
     "text": [
      "/tmp/ipykernel_1096/1837270171.py:6: SettingWithCopyWarning: \n",
      "A value is trying to be set on a copy of a slice from a DataFrame.\n",
      "Try using .loc[row_indexer,col_indexer] = value instead\n",
      "\n",
      "See the caveats in the documentation: https://pandas.pydata.org/pandas-docs/stable/user_guide/indexing.html#returning-a-view-versus-a-copy\n",
      "  omi_meta.loc[path,'filepath'] = os.path.join(root_path,path)\n"
     ]
    }
   ],
   "source": [
    "# attaching train filepaths for train metadata\n",
    "for dirs in os.listdir(storage_path_train):\n",
    "    root_path = os.path.join(storage_path_train,dirs)\n",
    "    for path in os.listdir(root_path):\n",
    "        if (path in omi_meta.index.values):\n",
    "            omi_meta.loc[path,'filepath'] = os.path.join(root_path,path)\n"
   ]
  },
  {
   "cell_type": "code",
   "execution_count": 13,
   "id": "c5fc1895-a4f6-4306-8963-83a524ebad8a",
   "metadata": {},
   "outputs": [
    {
     "name": "stdout",
     "output_type": "stream",
     "text": [
      "Number of tiles in train set are 671\n"
     ]
    }
   ],
   "source": [
    "print(f'Number of tiles in train set are {omi_meta.filepath.notnull().sum()}')"
   ]
  },
  {
   "cell_type": "code",
   "execution_count": 14,
   "id": "ac3ec4cf-eab0-4b3c-93bb-c0f3c79e1544",
   "metadata": {},
   "outputs": [],
   "source": [
    "#setting the filepaths for test set \n",
    "for dirs in os.listdir(storage_path_test):\n",
    "    root_path = os.path.join(storage_path_test,dirs)\n",
    "    for path in os.listdir(root_path):\n",
    "        if (path in omi_meta.index.values):\n",
    "            omi_meta.loc[path,'filepath'] = os.path.join(root_path,path)"
   ]
  },
  {
   "cell_type": "markdown",
   "id": "1885ea7b-1ea7-46fd-a722-7828700707f2",
   "metadata": {},
   "source": [
    "**Loading sample he5 file**"
   ]
  },
  {
   "cell_type": "code",
   "execution_count": 15,
   "id": "49aa6e1e-c1e8-48c3-8ee6-ace834c8d938",
   "metadata": {},
   "outputs": [
    {
     "data": {
      "text/plain": [
       "1070"
      ]
     },
     "execution_count": 15,
     "metadata": {},
     "output_type": "execute_result"
    }
   ],
   "source": [
    "omi_meta.filepath.nunique()"
   ]
  },
  {
   "cell_type": "code",
   "execution_count": 16,
   "id": "b353860c-6150-40b8-b6b0-8a28d16bb052",
   "metadata": {},
   "outputs": [
    {
     "data": {
      "text/html": [
       "<div>\n",
       "<style scoped>\n",
       "    .dataframe tbody tr th:only-of-type {\n",
       "        vertical-align: middle;\n",
       "    }\n",
       "\n",
       "    .dataframe tbody tr th {\n",
       "        vertical-align: top;\n",
       "    }\n",
       "\n",
       "    .dataframe thead th {\n",
       "        text-align: right;\n",
       "    }\n",
       "</style>\n",
       "<table border=\"1\" class=\"dataframe\">\n",
       "  <thead>\n",
       "    <tr style=\"text-align: right;\">\n",
       "      <th></th>\n",
       "      <th>time_start</th>\n",
       "      <th>time_end</th>\n",
       "      <th>product</th>\n",
       "      <th>location</th>\n",
       "      <th>split</th>\n",
       "      <th>us_url</th>\n",
       "      <th>eu_url</th>\n",
       "      <th>as_url</th>\n",
       "      <th>cksum</th>\n",
       "      <th>granule_size</th>\n",
       "      <th>filepath</th>\n",
       "    </tr>\n",
       "    <tr>\n",
       "      <th>granule_id</th>\n",
       "      <th></th>\n",
       "      <th></th>\n",
       "      <th></th>\n",
       "      <th></th>\n",
       "      <th></th>\n",
       "      <th></th>\n",
       "      <th></th>\n",
       "      <th></th>\n",
       "      <th></th>\n",
       "      <th></th>\n",
       "      <th></th>\n",
       "    </tr>\n",
       "  </thead>\n",
       "  <tbody>\n",
       "    <tr>\n",
       "      <th>20190101T235959_omi_dl-la-tpe_0.he5</th>\n",
       "      <td>2019-01-01 00:00:00+00:00</td>\n",
       "      <td>2019-01-01 23:59:59+00:00</td>\n",
       "      <td>omi</td>\n",
       "      <td>dl-la-tpe</td>\n",
       "      <td>train</td>\n",
       "      <td>s3://drivendata-competition-airathon-public-us...</td>\n",
       "      <td>s3://drivendata-competition-airathon-public-eu...</td>\n",
       "      <td>s3://drivendata-competition-airathon-public-as...</td>\n",
       "      <td>2423440162</td>\n",
       "      <td>11127998</td>\n",
       "      <td>../data/external/train/2019/20190101T235959_om...</td>\n",
       "    </tr>\n",
       "    <tr>\n",
       "      <th>20190102T235959_omi_dl-la-tpe_0.he5</th>\n",
       "      <td>2019-01-02 00:00:00+00:00</td>\n",
       "      <td>2019-01-02 23:59:59+00:00</td>\n",
       "      <td>omi</td>\n",
       "      <td>dl-la-tpe</td>\n",
       "      <td>train</td>\n",
       "      <td>s3://drivendata-competition-airathon-public-us...</td>\n",
       "      <td>s3://drivendata-competition-airathon-public-eu...</td>\n",
       "      <td>s3://drivendata-competition-airathon-public-as...</td>\n",
       "      <td>3526775882</td>\n",
       "      <td>11169726</td>\n",
       "      <td>../data/external/train/2019/20190102T235959_om...</td>\n",
       "    </tr>\n",
       "    <tr>\n",
       "      <th>20190103T235959_omi_dl-la-tpe_0.he5</th>\n",
       "      <td>2019-01-03 00:00:00+00:00</td>\n",
       "      <td>2019-01-03 23:59:59+00:00</td>\n",
       "      <td>omi</td>\n",
       "      <td>dl-la-tpe</td>\n",
       "      <td>train</td>\n",
       "      <td>s3://drivendata-competition-airathon-public-us...</td>\n",
       "      <td>s3://drivendata-competition-airathon-public-eu...</td>\n",
       "      <td>s3://drivendata-competition-airathon-public-as...</td>\n",
       "      <td>388814420</td>\n",
       "      <td>10937679</td>\n",
       "      <td>../data/external/train/2019/20190103T235959_om...</td>\n",
       "    </tr>\n",
       "    <tr>\n",
       "      <th>20190104T235959_omi_dl-la-tpe_0.he5</th>\n",
       "      <td>2019-01-04 00:00:00+00:00</td>\n",
       "      <td>2019-01-04 23:59:59+00:00</td>\n",
       "      <td>omi</td>\n",
       "      <td>dl-la-tpe</td>\n",
       "      <td>train</td>\n",
       "      <td>s3://drivendata-competition-airathon-public-us...</td>\n",
       "      <td>s3://drivendata-competition-airathon-public-eu...</td>\n",
       "      <td>s3://drivendata-competition-airathon-public-as...</td>\n",
       "      <td>1410261098</td>\n",
       "      <td>11141005</td>\n",
       "      <td>../data/external/train/2019/20190104T235959_om...</td>\n",
       "    </tr>\n",
       "    <tr>\n",
       "      <th>20190105T235959_omi_dl-la-tpe_0.he5</th>\n",
       "      <td>2019-01-05 00:00:00+00:00</td>\n",
       "      <td>2019-01-05 23:59:59+00:00</td>\n",
       "      <td>omi</td>\n",
       "      <td>dl-la-tpe</td>\n",
       "      <td>train</td>\n",
       "      <td>s3://drivendata-competition-airathon-public-us...</td>\n",
       "      <td>s3://drivendata-competition-airathon-public-eu...</td>\n",
       "      <td>s3://drivendata-competition-airathon-public-as...</td>\n",
       "      <td>1765932191</td>\n",
       "      <td>10819793</td>\n",
       "      <td>../data/external/train/2019/20190105T235959_om...</td>\n",
       "    </tr>\n",
       "  </tbody>\n",
       "</table>\n",
       "</div>"
      ],
      "text/plain": [
       "                                                   time_start  \\\n",
       "granule_id                                                      \n",
       "20190101T235959_omi_dl-la-tpe_0.he5 2019-01-01 00:00:00+00:00   \n",
       "20190102T235959_omi_dl-la-tpe_0.he5 2019-01-02 00:00:00+00:00   \n",
       "20190103T235959_omi_dl-la-tpe_0.he5 2019-01-03 00:00:00+00:00   \n",
       "20190104T235959_omi_dl-la-tpe_0.he5 2019-01-04 00:00:00+00:00   \n",
       "20190105T235959_omi_dl-la-tpe_0.he5 2019-01-05 00:00:00+00:00   \n",
       "\n",
       "                                                     time_end product  \\\n",
       "granule_id                                                              \n",
       "20190101T235959_omi_dl-la-tpe_0.he5 2019-01-01 23:59:59+00:00     omi   \n",
       "20190102T235959_omi_dl-la-tpe_0.he5 2019-01-02 23:59:59+00:00     omi   \n",
       "20190103T235959_omi_dl-la-tpe_0.he5 2019-01-03 23:59:59+00:00     omi   \n",
       "20190104T235959_omi_dl-la-tpe_0.he5 2019-01-04 23:59:59+00:00     omi   \n",
       "20190105T235959_omi_dl-la-tpe_0.he5 2019-01-05 23:59:59+00:00     omi   \n",
       "\n",
       "                                      location  split  \\\n",
       "granule_id                                              \n",
       "20190101T235959_omi_dl-la-tpe_0.he5  dl-la-tpe  train   \n",
       "20190102T235959_omi_dl-la-tpe_0.he5  dl-la-tpe  train   \n",
       "20190103T235959_omi_dl-la-tpe_0.he5  dl-la-tpe  train   \n",
       "20190104T235959_omi_dl-la-tpe_0.he5  dl-la-tpe  train   \n",
       "20190105T235959_omi_dl-la-tpe_0.he5  dl-la-tpe  train   \n",
       "\n",
       "                                                                                us_url  \\\n",
       "granule_id                                                                               \n",
       "20190101T235959_omi_dl-la-tpe_0.he5  s3://drivendata-competition-airathon-public-us...   \n",
       "20190102T235959_omi_dl-la-tpe_0.he5  s3://drivendata-competition-airathon-public-us...   \n",
       "20190103T235959_omi_dl-la-tpe_0.he5  s3://drivendata-competition-airathon-public-us...   \n",
       "20190104T235959_omi_dl-la-tpe_0.he5  s3://drivendata-competition-airathon-public-us...   \n",
       "20190105T235959_omi_dl-la-tpe_0.he5  s3://drivendata-competition-airathon-public-us...   \n",
       "\n",
       "                                                                                eu_url  \\\n",
       "granule_id                                                                               \n",
       "20190101T235959_omi_dl-la-tpe_0.he5  s3://drivendata-competition-airathon-public-eu...   \n",
       "20190102T235959_omi_dl-la-tpe_0.he5  s3://drivendata-competition-airathon-public-eu...   \n",
       "20190103T235959_omi_dl-la-tpe_0.he5  s3://drivendata-competition-airathon-public-eu...   \n",
       "20190104T235959_omi_dl-la-tpe_0.he5  s3://drivendata-competition-airathon-public-eu...   \n",
       "20190105T235959_omi_dl-la-tpe_0.he5  s3://drivendata-competition-airathon-public-eu...   \n",
       "\n",
       "                                                                                as_url  \\\n",
       "granule_id                                                                               \n",
       "20190101T235959_omi_dl-la-tpe_0.he5  s3://drivendata-competition-airathon-public-as...   \n",
       "20190102T235959_omi_dl-la-tpe_0.he5  s3://drivendata-competition-airathon-public-as...   \n",
       "20190103T235959_omi_dl-la-tpe_0.he5  s3://drivendata-competition-airathon-public-as...   \n",
       "20190104T235959_omi_dl-la-tpe_0.he5  s3://drivendata-competition-airathon-public-as...   \n",
       "20190105T235959_omi_dl-la-tpe_0.he5  s3://drivendata-competition-airathon-public-as...   \n",
       "\n",
       "                                          cksum  granule_size  \\\n",
       "granule_id                                                      \n",
       "20190101T235959_omi_dl-la-tpe_0.he5  2423440162      11127998   \n",
       "20190102T235959_omi_dl-la-tpe_0.he5  3526775882      11169726   \n",
       "20190103T235959_omi_dl-la-tpe_0.he5   388814420      10937679   \n",
       "20190104T235959_omi_dl-la-tpe_0.he5  1410261098      11141005   \n",
       "20190105T235959_omi_dl-la-tpe_0.he5  1765932191      10819793   \n",
       "\n",
       "                                                                              filepath  \n",
       "granule_id                                                                              \n",
       "20190101T235959_omi_dl-la-tpe_0.he5  ../data/external/train/2019/20190101T235959_om...  \n",
       "20190102T235959_omi_dl-la-tpe_0.he5  ../data/external/train/2019/20190102T235959_om...  \n",
       "20190103T235959_omi_dl-la-tpe_0.he5  ../data/external/train/2019/20190103T235959_om...  \n",
       "20190104T235959_omi_dl-la-tpe_0.he5  ../data/external/train/2019/20190104T235959_om...  \n",
       "20190105T235959_omi_dl-la-tpe_0.he5  ../data/external/train/2019/20190105T235959_om...  "
      ]
     },
     "execution_count": 16,
     "metadata": {},
     "output_type": "execute_result"
    }
   ],
   "source": [
    "omi_meta.head()"
   ]
  },
  {
   "cell_type": "markdown",
   "id": "958b61ef-959c-4ec3-8fba-11cd38c6edfe",
   "metadata": {},
   "source": [
    "**checking a sample he5 file**"
   ]
  },
  {
   "cell_type": "code",
   "execution_count": 17,
   "id": "0fc75724-28f3-400c-9c7c-012f5a0adfac",
   "metadata": {},
   "outputs": [
    {
     "name": "stdout",
     "output_type": "stream",
     "text": [
      "HDFEOS\n",
      "HDFEOS/ADDITIONAL\n",
      "HDFEOS/ADDITIONAL/FILE_ATTRIBUTES\n",
      "HDFEOS/GRIDS\n",
      "HDFEOS/GRIDS/ColumnAmountNO2\n",
      "HDFEOS/GRIDS/ColumnAmountNO2/Data Fields\n",
      "HDFEOS/GRIDS/ColumnAmountNO2/Data Fields/ColumnAmountNO2\n",
      "HDFEOS/GRIDS/ColumnAmountNO2/Data Fields/ColumnAmountNO2CloudScreened\n",
      "HDFEOS/GRIDS/ColumnAmountNO2/Data Fields/ColumnAmountNO2Trop\n",
      "HDFEOS/GRIDS/ColumnAmountNO2/Data Fields/ColumnAmountNO2TropCloudScreened\n",
      "HDFEOS/GRIDS/ColumnAmountNO2/Data Fields/Weight\n",
      "HDFEOS INFORMATION\n",
      "HDFEOS INFORMATION/StructMetadata.0\n"
     ]
    }
   ],
   "source": [
    "sample_no2 = File(omi_meta.filepath[10],\n",
    "                  mode='r')\n",
    "\n",
    "#print hierarchical structure of sample_no2 \n",
    "def print_structure(name, obj):\n",
    "    print(name)\n",
    "\n",
    "sample_no2.visititems(print_structure)"
   ]
  },
  {
   "cell_type": "markdown",
   "id": "02b134cf-1fe5-4f62-b5c5-72edf9e3dc45",
   "metadata": {},
   "source": [
    "**NO2 image desc** : \n",
    "\n",
    "\n",
    "    According to our raw values, a single swath of our Tropospheric Column NO2 data contains 720 x 1440 pixels that represent averaged values across approximately 14 orbits in a single day. Given that our NO2 data covers the entire globe and our data has a resolution of 0.25 x 0.25 degrees, this shape is to be expected:\n",
    "\n",
    "        Given latitude bounds of [-90, 90], 180 / 0.25 = 720 pixels\n",
    "        Given longitude bounds of [-180, 180], 360 / 0.25 = 1440 pixels\n",
    "\n"
   ]
  },
  {
   "cell_type": "code",
   "execution_count": 18,
   "id": "0ec8cb09-0f7d-42ab-99f5-0e7a57fcb21e",
   "metadata": {},
   "outputs": [
    {
     "data": {
      "image/png": "[encoded data removed]",
      "text/plain": [
       "<Figure size 1152x576 with 2 Axes>"
      ]
     },
     "metadata": {
      "needs_background": "light"
     },
     "output_type": "display_data"
    }
   ],
   "source": [
    "#selecting tropospheric n02 for viz\n",
    "\n",
    "trop_no2 = sample_no2[\"HDFEOS\"][\"GRIDS\"][\"ColumnAmountNO2\"][\"Data Fields\"][\"ColumnAmountNO2Trop\"]\n",
    "\n",
    "f, ax = plt.subplots(1, 1, figsize=(16, 8))\n",
    "img = plt.imshow(trop_no2[:] / 1e15 ,\n",
    "                 origin=\"lower\",\n",
    "                 cmap=\"RdYlGn_r\")\n",
    "\n",
    "f.colorbar(img)\n",
    "plt.suptitle(\"NO2 TVCD Raw Value Heatmap\", fontsize=12)\n",
    "plt.show()"
   ]
  },
  {
   "cell_type": "code",
   "execution_count": 19,
   "id": "b1b2043f-e893-4c79-9cf7-52c27246222f",
   "metadata": {},
   "outputs": [
    {
     "name": "stdout",
     "output_type": "stream",
     "text": [
      "Description: b'Field=ColumnAmountNO2Trop,StdField=ColumnAmountNO2TropStd,SolarZenithAngle=[0:85],VcdQualityFlags=~19,XTrackQualityFlags=~[1:254],TerrainReflectivity=[0:1000]'\n",
      "MissingValue: [-1.2676506e+30]\n",
      "Offset: [0.]\n",
      "ScaleFactor: [1.]\n",
      "Title: b'NO2 tropospheric column density'\n",
      "Units: b'molec/cm2'\n",
      "_FillValue: [-1.2676506e+30]\n"
     ]
    }
   ],
   "source": [
    "# List available attributes\n",
    "for k, v in trop_no2.attrs.items():\n",
    "    print(f\"{k}: {v}\")"
   ]
  },
  {
   "cell_type": "markdown",
   "id": "10b03c64-9c46-43cd-8d14-b14784540430",
   "metadata": {},
   "source": [
    "# Processing data\n",
    "\n",
    "    Aligning the training data and labels by georeferencing,along with dealing with no-data-values and callibration of offset"
   ]
  },
  {
   "cell_type": "markdown",
   "id": "11d7a049-ec4b-483a-be4d-80a699e85633",
   "metadata": {},
   "source": [
    "**Helper functions (from reference notebook with minor modifications)**"
   ]
  },
  {
   "cell_type": "code",
   "execution_count": 20,
   "id": "88f3395c-c697-4041-9d54-3e9c995b9ed9",
   "metadata": {},
   "outputs": [],
   "source": [
    "def calibrate_data(data: File, calibration_dict: Dict):\n",
    "    \"\"\"Given an OMI dataset and calibration parameters, return a masked\n",
    "    array of calibrated data.\n",
    "    \n",
    "    Args:\n",
    "        data (File): dataset in the File format (e.g. column NO2).\n",
    "        calibration_dict (Dict): dictionary containing, at a minimum,\n",
    "            `scale_factor` (float), `offset` (float),\n",
    "            `missing_data_value` (float).\n",
    "    \n",
    "    Returns:\n",
    "        corrected_NO2 (np.ma.MaskedArray): masked array of calibrated data\n",
    "            with a fill value of nan.\n",
    "    \"\"\"\n",
    "    # Convert missing data to nan\n",
    "    data[data == calibration_dict[\"missing_data_value\"]] = np.nan\n",
    "    \n",
    "    # Remove negative values\n",
    "    data[data < 0] = np.nan\n",
    "    \n",
    "    # Calibrate using offset and scale factor\n",
    "    data = (\n",
    "        (data - calibration_dict[\"offset\"]) *\n",
    "        calibration_dict[\"scale_factor\"]\n",
    "    ) / (10 ** 15) # Divide by 10^15 for readability\n",
    "    \n",
    "    # Convert to masked array\n",
    "    data = np.ma.masked_where(np.isnan(data), data)\n",
    "    data.fill_value = np.nan\n",
    "\n",
    "    return data\n",
    "\n",
    "def create_calibration_dict(data: Dataset):\n",
    "    \"\"\"Define calibration dictionary given a Dataset object,\n",
    "    which contains:\n",
    "        - scale factor\n",
    "        - offset\n",
    "        - missing data value\n",
    "    \n",
    "    Args:\n",
    "        data (Dataset): dataset in the Dataset format.\n",
    "    \n",
    "    Returns:\n",
    "        calibration_dict (Dict): dict of calibration parameters.\n",
    "    \"\"\"\n",
    "    calibration_dict = {\n",
    "        \"scale_factor\": data.attrs[\"ScaleFactor\"][0],\n",
    "        \"offset\": data.attrs[\"Offset\"][0],\n",
    "        \"missing_data_value\": data.attrs[\"_FillValue\"][0]\n",
    "    }\n",
    "    return calibration_dict\n",
    "\n",
    "def convert_array_to_df(\n",
    "    corrected_arr: np.ma.MaskedArray,\n",
    "    lat: np.ndarray,\n",
    "    lon: np.ndarray,\n",
    "    granule_id: str,\n",
    "    total_bounds: Optional[np.ndarray] = None\n",
    "):\n",
    "    \"\"\"Align data values with latitude and longitude coordinates\n",
    "    and return a GeoDataFrame.\n",
    "    \n",
    "    Args:\n",
    "        corrected_arr (np.ma.MaskedArray): data values for each pixel.\n",
    "        lat (np.ndarray): latitude for each pixel.\n",
    "        lon (np.ndarray): longitude for each pixel.\n",
    "        granule_id (str): granule name.\n",
    "        total_bounds (np.ndarray, optional): If provided, will filter\n",
    "            out points that fall outside of these bounds. Composed of\n",
    "            xmin, ymin, xmax, ymax.\n",
    "    \"\"\"\n",
    "    lons, lats = np.meshgrid(lon, lat)\n",
    "    values = {\n",
    "        \"value\": corrected_arr.data.ravel(),\n",
    "        \"lat\": lats.ravel(),\n",
    "        \"lon\": lons.ravel(),\n",
    "        \"granule_id\": [granule_id] * lons.shape[0] * lons.shape[1]\n",
    "    }\n",
    "    df = pd.DataFrame(values).dropna()\n",
    "    \n",
    "    if total_bounds is not None:\n",
    "        x_min, y_min, x_max, y_max = total_bounds\n",
    "        df = df[df.lon.between(x_min, x_max) & df.lat.between(y_min, y_max)]\n",
    "    \n",
    "    gdf = gpd.GeoDataFrame(df)\n",
    "    gdf[\"geometry\"] = gpd.points_from_xy(gdf.lon, gdf.lat)\n",
    "    gdf.crs = wgs84_crs\n",
    "    return gdf[[\"granule_id\", \"geometry\", \"value\"]].reset_index(drop=True)\n",
    "\n",
    "def define_coordinates(\n",
    "    lat_bounds: List[float],\n",
    "    lon_bounds: List[float],\n",
    "    resolution: List[float]\n",
    "):\n",
    "    \"\"\"Given latitude bounds, longitude bounds, and the data product \n",
    "    resolution, create a meshgrid of points between bounding coordinates.\n",
    "    \n",
    "    Args:\n",
    "        lat_bounds (List): latitude bounds as a list.\n",
    "        lon_bounds (List): longitude bounds as a list.\n",
    "        resolution (List): data resolution as a list.\n",
    "    \n",
    "    Returns:\n",
    "        lon (np.array): x (longitude) coordinates.\n",
    "        lat (np.array): y (latitude) coordinates.\n",
    "    \"\"\"\n",
    "    # Interpolate points between bounds\n",
    "    # Add 0.125 buffer, source: OMI_L3_ColumnAmountO3.py (HDFEOS script)\n",
    "    lon = np.arange(lon_bounds[0], lon_bounds[1], resolution[1]) + 0.125\n",
    "    lat = np.arange(lat_bounds[0], lat_bounds[1], resolution[0]) + 0.125\n",
    "\n",
    "    return lon, lat\n",
    "\n"
   ]
  },
  {
   "cell_type": "code",
   "execution_count": 29,
   "id": "b1af23d4-8d28-4915-bce2-650b26b834ec",
   "metadata": {},
   "outputs": [],
   "source": [
    "def preprocess_omi_data(\n",
    "    granule_path: str,\n",
    "    grid_cell_gdf: gpd.GeoDataFrame,\n",
    "    dataset_name: str,\n",
    "    locations: List[str]\n",
    "):\n",
    "    \"\"\"\n",
    "    Given a granule s3 path and competition grid cells, \n",
    "    create a GDF of each intersecting point and the accompanying\n",
    "    dataset value (e.g. Tropospheric NO2).\n",
    "    \n",
    "    Args:\n",
    "        granule_path (str): a path to a granule on sys.\n",
    "        grid_cell_gdf (gpd.GeoDataFrame): GeoDataFrame that contains,\n",
    "            at a minimum, a `grid_id` and `geometry` column of Polygons.\n",
    "        dataset_name (str): specific dataset name (e.g. \"ColumnAmountNO2Trop\").\n",
    "        locations (List[str]): location names to filter points\n",
    "            using bounding coordinates. Options include Taipei, Delhi,\n",
    "            and Los Angeles (SoCAB).\n",
    "    \n",
    "    Returns:\n",
    "        GeoDataFrame that contains Points and associated values.\n",
    "    \"\"\"\n",
    "    # Load NO2 data\n",
    "    # s3_path = S3Path(granule_path)\n",
    "    granule_name = granule_path.split('/')[-1]\n",
    "    hdf = File(granule_path, mode=\"r\")\n",
    "    NO2 = hdf[\"HDFEOS\"][\"GRIDS\"][\"ColumnAmountNO2\"][\"Data Fields\"][dataset_name]\n",
    "    raw_NO2 = NO2[:]\n",
    "    shape = raw_NO2.shape\n",
    "\n",
    "    # Calibrate data\n",
    "    calibration_dict = create_calibration_dict(NO2)\n",
    "    corrected_NO2 = calibrate_data(raw_NO2, calibration_dict)\n",
    "\n",
    "    # Determine location bounds\n",
    "    bounds = [grid_cell_gdf[grid_cell_gdf.location == x].total_bounds for x in locations]\n",
    "    \n",
    "    # Save values that align with granules\n",
    "    lon, lat = define_coordinates([-90, 90], [-180, 180], [0.25, 0.25])\n",
    "    dfs = []\n",
    "    for i, bound in enumerate(bounds):\n",
    "        granule_gdf = convert_array_to_df(corrected_NO2, lat, lon, granule_name, bound)\n",
    "        location_gdf = grid_cell_gdf[grid_cell_gdf.location == locations[i]]\n",
    "        city_df = gpd.sjoin_nearest(location_gdf, granule_gdf, how=\"inner\")\n",
    "        dfs.append(city_df)\n",
    "    df = pd.concat(dfs)\n",
    "\n",
    "    # Clean up files\n",
    "    # Path(s3_path.fspath).unlink()\n",
    "    return df.drop(columns=\"index_right\").reset_index()\n",
    "\n",
    "    \n",
    "def preprocess_trop_no2(\n",
    "    granule_paths: List[str],\n",
    "    grid_cell_gdf: gpd.GeoDataFrame,\n",
    "    dataset_name: str,\n",
    "    locations: List[str],\n",
    "    n_jobs: int = 7\n",
    "):\n",
    "    \"\"\"\n",
    "    Given a set of granule s3 paths and competition grid cells, \n",
    "    parallelizes creation of GDFs containing NO2 values and points.\n",
    "    \n",
    "    Args:\n",
    "        granule_paths (List[str]): list of paths on s3.\n",
    "        grid_cell_gdf (gpd.GeoDataFrame): GeoDataFrame that contains,\n",
    "            at a minimum, a `grid_id` and `geometry` column of Polygons.\n",
    "        dataset_name (str): specific dataset name (e.g. \"ColumnAmountNO2Trop\").\n",
    "        locations (List[str]): location names to filter points\n",
    "            using bounding coordinates. Options include Taipei, Delhi,\n",
    "            and Los Angeles (SoCAB).\n",
    "        n_jobs (int): The number of parallel processes. Defaults to 2.\n",
    "    \n",
    "    Returns:\n",
    "        GeoDataFrame that contains Points and associated values for all granules.\n",
    "    \"\"\"\n",
    "    args = ((gp, grid_cell_gdf, dataset_name, locations) for gp in granule_paths)\n",
    "    results = pqdm(args, preprocess_omi_data, n_jobs=n_jobs, argument_type=\"args\")\n",
    "    return pd.concat(results)"
   ]
  },
  {
   "cell_type": "markdown",
   "id": "e63acffc-0f20-4f4f-ba41-f7c8f517a8b3",
   "metadata": {},
   "source": [
    "Converting data into datasets"
   ]
  },
  {
   "cell_type": "markdown",
   "id": "b9c26029-c342-43b8-8a46-5ef05b9f305e",
   "metadata": {},
   "source": [
    "Getting Train and test filepaths, and location coordinates for the labelled data"
   ]
  },
  {
   "cell_type": "code",
   "execution_count": 22,
   "id": "a6ef70a6-93b1-4dc7-8776-8a56c1bae829",
   "metadata": {},
   "outputs": [
    {
     "data": {
      "text/plain": [
       "66"
      ]
     },
     "execution_count": 22,
     "metadata": {},
     "output_type": "execute_result"
    }
   ],
   "source": [
    "# Identify training OMI granule filepaths\n",
    "fp = list(omi_meta[omi_meta['split']=='train']['filepath'])\n",
    "\n",
    "# Identify training grid cells\n",
    "gc = grid_meta[grid_meta.index.isin(train_labels.grid_id)].copy()\n",
    "\n",
    "len(gc)"
   ]
  },
  {
   "cell_type": "markdown",
   "id": "5c9b9bb1-ea38-4b5b-9af7-cb095d8c8fac",
   "metadata": {},
   "source": [
    "Getting the location polygons for the selected grids"
   ]
  },
  {
   "cell_type": "code",
   "execution_count": 23,
   "id": "a4a90ac0-7bb5-4bf1-afee-dc5d6e403b90",
   "metadata": {},
   "outputs": [],
   "source": [
    "polys = gpd.GeoSeries.from_wkt(gc.wkt, crs=wgs84_crs)\n",
    "polys.name = \"geometry\"\n",
    "polys_gdf = gpd.GeoDataFrame(polys)\n",
    "polys_gdf[\"location\"] = gc.location"
   ]
  },
  {
   "cell_type": "code",
   "execution_count": 24,
   "id": "1ec7371e-05f0-4a4e-b4a6-15e68f77f4fb",
   "metadata": {},
   "outputs": [],
   "source": [
    "# Determine bounding boxes\n",
    "locations = polys_gdf.location.unique()\n",
    "bounds = [polys_gdf[polys_gdf.location == x].total_bounds for x in locations]"
   ]
  },
  {
   "cell_type": "code",
   "execution_count": 25,
   "id": "2d275983-e5e4-4195-b16b-4e2ab9f89efc",
   "metadata": {},
   "outputs": [],
   "source": [
    "# getting datasets"
   ]
  },
  {
   "cell_type": "markdown",
   "id": "69a27536-5026-4ebc-87c8-15f571e3a0f3",
   "metadata": {},
   "source": [
    "**getting values of trop NO2**"
   ]
  },
  {
   "cell_type": "code",
   "execution_count": 26,
   "id": "5efd1b8d-bc9f-447b-aa07-aede829433a9",
   "metadata": {},
   "outputs": [
    {
     "data": {
      "application/vnd.jupyter.widget-view+json": {
       "model_id": "dc4e73978b2a41acba24202639cb39ba",
       "version_major": 2,
       "version_minor": 0
      },
      "text/plain": [
       "QUEUEING TASKS | : 0it [00:00, ?it/s]"
      ]
     },
     "metadata": {},
     "output_type": "display_data"
    },
    {
     "data": {
      "application/vnd.jupyter.widget-view+json": {
       "model_id": "2f9eaccdde7e4649837de2fe2df0f30d",
       "version_major": 2,
       "version_minor": 0
      },
      "text/plain": [
       "PROCESSING TASKS | :   0%|          | 0/671 [00:00<?, ?it/s]"
      ]
     },
     "metadata": {},
     "output_type": "display_data"
    },
    {
     "data": {
      "application/vnd.jupyter.widget-view+json": {
       "model_id": "c3fc585e95d44eadab6f4c241ef1256c",
       "version_major": 2,
       "version_minor": 0
      },
      "text/plain": [
       "COLLECTING RESULTS | :   0%|          | 0/671 [00:00<?, ?it/s]"
      ]
     },
     "metadata": {},
     "output_type": "display_data"
    },
    {
     "data": {
      "text/plain": [
       "(26403, 5)"
      ]
     },
     "execution_count": 26,
     "metadata": {},
     "output_type": "execute_result"
    }
   ],
   "source": [
    "train_gdf_trop_no2 = preprocess_trop_no2(fp, \n",
    "                                        polys_gdf,\n",
    "                                        \"ColumnAmountNO2Trop\",\n",
    "                                        locations)\n",
    "\n",
    "#rename cols\n",
    "train_gdf_trop_no2.rename(columns = {'value':'trop_no2'},inplace=True)\n",
    "\n",
    "\n",
    "train_gdf_trop_no2.shape"
   ]
  },
  {
   "cell_type": "markdown",
   "id": "8ad05c26-8a5b-4228-981e-0d7b029a8f73",
   "metadata": {},
   "source": [
    "**getting values of trop NO2 (cloud filtered)**"
   ]
  },
  {
   "cell_type": "code",
   "execution_count": 32,
   "id": "b9090447-2fd5-4a53-b67b-3392bdfd7404",
   "metadata": {},
   "outputs": [
    {
     "data": {
      "text/plain": [
       "(23435, 5)"
      ]
     },
     "execution_count": 32,
     "metadata": {},
     "output_type": "execute_result"
    }
   ],
   "source": [
    "train_gdf_trop_cf_no2 = preprocess_trop_no2(fp, \n",
    "                                        polys_gdf,\n",
    "                                        \"ColumnAmountNO2TropCloudScreened\",\n",
    "                                        locations)\n",
    "\n",
    "train_gdf_trop_cf_no2.rename(columns = {'value':'trop_no2_cs'},inplace=True)\n",
    "\n",
    "train_gdf_trop_cf_no2.shape"
   ]
  },
  {
   "cell_type": "markdown",
   "id": "e2b7adfb-4a23-420c-b412-4a4fc37407e8",
   "metadata": {},
   "source": [
    "**getting column no2 data**"
   ]
  },
  {
   "cell_type": "code",
   "execution_count": 52,
   "id": "fd598255-cd4b-4f9c-8e23-7193a2f61ef5",
   "metadata": {},
   "outputs": [
    {
     "data": {
      "application/vnd.jupyter.widget-view+json": {
       "model_id": "c673b3d3d78f4db887a5e8c3a55273b5",
       "version_major": 2,
       "version_minor": 0
      },
      "text/plain": [
       "QUEUEING TASKS | : 0it [00:00, ?it/s]"
      ]
     },
     "metadata": {},
     "output_type": "display_data"
    },
    {
     "data": {
      "application/vnd.jupyter.widget-view+json": {
       "model_id": "34dcba4fe189435d96150cd26b88adf5",
       "version_major": 2,
       "version_minor": 0
      },
      "text/plain": [
       "PROCESSING TASKS | :   0%|          | 0/671 [00:00<?, ?it/s]"
      ]
     },
     "metadata": {},
     "output_type": "display_data"
    },
    {
     "data": {
      "application/vnd.jupyter.widget-view+json": {
       "model_id": "0e02fc1eabfa4ac6a97fc409ba74d3ad",
       "version_major": 2,
       "version_minor": 0
      },
      "text/plain": [
       "COLLECTING RESULTS | :   0%|          | 0/671 [00:00<?, ?it/s]"
      ]
     },
     "metadata": {},
     "output_type": "display_data"
    },
    {
     "data": {
      "text/plain": [
       "(26462, 5)"
      ]
     },
     "execution_count": 52,
     "metadata": {},
     "output_type": "execute_result"
    }
   ],
   "source": [
    "train_gdf_col_no2 = preprocess_trop_no2(fp, \n",
    "                                        polys_gdf,\n",
    "                                        \"ColumnAmountNO2\",\n",
    "                                        locations)\n",
    "\n",
    "train_gdf_col_no2.rename(columns = {'value':'col_no2'},inplace=True)\n",
    "train_gdf_col_no2.shape"
   ]
  },
  {
   "cell_type": "markdown",
   "id": "b4daebc4-bf65-4aac-aa97-0773ff5e773c",
   "metadata": {},
   "source": [
    "**getting column no2 data(cloud filtered**"
   ]
  },
  {
   "cell_type": "code",
   "execution_count": 64,
   "id": "5f17e05c-3146-465f-9f09-fbf3ffee2d3f",
   "metadata": {},
   "outputs": [
    {
     "data": {
      "application/vnd.jupyter.widget-view+json": {
       "model_id": "f88acf3c963f4f0f85fa379406853482",
       "version_major": 2,
       "version_minor": 0
      },
      "text/plain": [
       "QUEUEING TASKS | : 0it [00:00, ?it/s]"
      ]
     },
     "metadata": {},
     "output_type": "display_data"
    },
    {
     "data": {
      "application/vnd.jupyter.widget-view+json": {
       "model_id": "b6c739364d554e3e8893cf22755cece8",
       "version_major": 2,
       "version_minor": 0
      },
      "text/plain": [
       "PROCESSING TASKS | :   0%|          | 0/671 [00:00<?, ?it/s]"
      ]
     },
     "metadata": {},
     "output_type": "display_data"
    },
    {
     "data": {
      "application/vnd.jupyter.widget-view+json": {
       "model_id": "c4842910aeb946e48f3c77e4031f763d",
       "version_major": 2,
       "version_minor": 0
      },
      "text/plain": [
       "COLLECTING RESULTS | :   0%|          | 0/671 [00:00<?, ?it/s]"
      ]
     },
     "metadata": {},
     "output_type": "display_data"
    }
   ],
   "source": [
    "\n",
    "train_gdf_col_cf_no2 = preprocess_trop_no2(fp, \n",
    "                                        polys_gdf,\n",
    "                                        \"ColumnAmountNO2CloudScreened\",\n",
    "                                        locations)\n",
    "\n",
    "train_gdf_col_cf_no2.rename(columns = {'value':'col_no2_cs'},inplace=True)"
   ]
  },
  {
   "cell_type": "markdown",
   "id": "ef05dcbf-f6bf-44dd-b864-1a9442cdb7f4",
   "metadata": {},
   "source": [
    "**merging the above datasets**"
   ]
  },
  {
   "cell_type": "code",
   "execution_count": 154,
   "id": "b923a295-ef6a-4ac3-86de-73b7000ecc79",
   "metadata": {},
   "outputs": [],
   "source": [
    "#merging columns\n",
    "on = ['grid_id','granule_id','geometry','location']\n",
    "how = 'left'"
   ]
  },
  {
   "cell_type": "code",
   "execution_count": 155,
   "id": "43777b56-6c5f-4a99-a262-47413a995376",
   "metadata": {},
   "outputs": [
    {
     "data": {
      "text/plain": [
       "(26403, 6)"
      ]
     },
     "execution_count": 155,
     "metadata": {},
     "output_type": "execute_result"
    }
   ],
   "source": [
    "#merging trop no2 with trop_no2 cloud screened\n",
    "train_df = train_gdf_trop_no2.merge(train_gdf_trop_cf_no2,\n",
    "                                    on = on ,\n",
    "                                    how = how)\n",
    "\n",
    "train_df.shape"
   ]
  },
  {
   "cell_type": "code",
   "execution_count": 156,
   "id": "019c87be-ee04-4abe-8390-4f6f0a5a869b",
   "metadata": {},
   "outputs": [
    {
     "data": {
      "text/plain": [
       "(26403, 7)"
      ]
     },
     "execution_count": 156,
     "metadata": {},
     "output_type": "execute_result"
    }
   ],
   "source": [
    "#merging col no2\n",
    "train_df = train_df.merge(train_gdf_col_no2,\n",
    "                                    on = on ,\n",
    "                                    how = how)\n",
    "\n",
    "\n",
    "train_df.shape"
   ]
  },
  {
   "cell_type": "code",
   "execution_count": 157,
   "id": "cd556c8e-2b96-40b0-a0fd-e9f59eb96ff8",
   "metadata": {},
   "outputs": [
    {
     "data": {
      "text/plain": [
       "(26403, 8)"
      ]
     },
     "execution_count": 157,
     "metadata": {},
     "output_type": "execute_result"
    }
   ],
   "source": [
    "#merging col no2 cloud filtered\n",
    "train_df = train_df.merge(train_gdf_col_cf_no2,\n",
    "                                    on = on ,\n",
    "                                    how = how)\n",
    "\n",
    "\n",
    "train_df.shape\n"
   ]
  },
  {
   "cell_type": "markdown",
   "id": "48c0dfed-01e7-42e2-9453-69079c872d72",
   "metadata": {},
   "source": [
    "# saving train_df"
   ]
  },
  {
   "cell_type": "code",
   "execution_count": 158,
   "id": "53cd5c1e-14c5-479f-98c7-b808be759da0",
   "metadata": {},
   "outputs": [
    {
     "data": {
      "text/plain": [
       "grid_id           0\n",
       "geometry          0\n",
       "location          0\n",
       "granule_id        0\n",
       "trop_no2          0\n",
       "trop_no2_cs    2999\n",
       "col_no2           0\n",
       "col_no2_cs     2999\n",
       "dtype: int64"
      ]
     },
     "execution_count": 158,
     "metadata": {},
     "output_type": "execute_result"
    }
   ],
   "source": [
    "train_df.isnull().sum()"
   ]
  },
  {
   "cell_type": "code",
   "execution_count": 159,
   "id": "e054651e-9d8c-42a0-8a49-79863fc7c3c8",
   "metadata": {},
   "outputs": [],
   "source": [
    "#adding  a indicator for null values \n",
    "\n",
    "train_df['null_fields'] = train_df.isnull().sum(axis=1)"
   ]
  },
  {
   "cell_type": "markdown",
   "id": "6dd1a0fe-f456-46ef-ac71-38e9dfec937b",
   "metadata": {},
   "source": [
    "filling nulls with bfils"
   ]
  },
  {
   "cell_type": "code",
   "execution_count": 160,
   "id": "a22518ab-4339-413c-900f-977e8373e30b",
   "metadata": {},
   "outputs": [],
   "source": [
    "train_df=train_df.sort_values(by = 'location')\n",
    "train_df['col_no2_cs'].bfill(inplace=True)\n",
    "train_df['trop_no2_cs'].bfill(inplace=True)\n"
   ]
  },
  {
   "cell_type": "code",
   "execution_count": 162,
   "id": "4ed36cbd-6ecf-4d73-9db7-e66cba3340a6",
   "metadata": {},
   "outputs": [],
   "source": [
    "train_df.to_csv(INTERIM / 'train_df.csv',\n",
    "                index=False)"
   ]
  },
  {
   "cell_type": "markdown",
   "id": "5220e412-8346-4ad1-9719-2a9dd100d24b",
   "metadata": {},
   "source": [
    "**getting test data**"
   ]
  },
  {
   "cell_type": "code",
   "execution_count": 129,
   "id": "7d8f958b-d0ec-4770-bdf1-f9dae60d50e9",
   "metadata": {},
   "outputs": [
    {
     "data": {
      "text/html": [
       "<div>\n",
       "<style scoped>\n",
       "    .dataframe tbody tr th:only-of-type {\n",
       "        vertical-align: middle;\n",
       "    }\n",
       "\n",
       "    .dataframe tbody tr th {\n",
       "        vertical-align: top;\n",
       "    }\n",
       "\n",
       "    .dataframe thead th {\n",
       "        text-align: right;\n",
       "    }\n",
       "</style>\n",
       "<table border=\"1\" class=\"dataframe\">\n",
       "  <thead>\n",
       "    <tr style=\"text-align: right;\">\n",
       "      <th></th>\n",
       "      <th>datetime</th>\n",
       "      <th>grid_id</th>\n",
       "      <th>value</th>\n",
       "    </tr>\n",
       "  </thead>\n",
       "  <tbody>\n",
       "    <tr>\n",
       "      <th>0</th>\n",
       "      <td>2018-09-08 08:00:00+00:00</td>\n",
       "      <td>3A3IE</td>\n",
       "      <td>0.0</td>\n",
       "    </tr>\n",
       "    <tr>\n",
       "      <th>1</th>\n",
       "      <td>2018-09-08 08:00:00+00:00</td>\n",
       "      <td>3S31A</td>\n",
       "      <td>0.0</td>\n",
       "    </tr>\n",
       "    <tr>\n",
       "      <th>2</th>\n",
       "      <td>2018-09-08 08:00:00+00:00</td>\n",
       "      <td>7II4T</td>\n",
       "      <td>0.0</td>\n",
       "    </tr>\n",
       "    <tr>\n",
       "      <th>3</th>\n",
       "      <td>2018-09-08 08:00:00+00:00</td>\n",
       "      <td>8BOQH</td>\n",
       "      <td>0.0</td>\n",
       "    </tr>\n",
       "    <tr>\n",
       "      <th>4</th>\n",
       "      <td>2018-09-08 08:00:00+00:00</td>\n",
       "      <td>A2FBI</td>\n",
       "      <td>0.0</td>\n",
       "    </tr>\n",
       "  </tbody>\n",
       "</table>\n",
       "</div>"
      ],
      "text/plain": [
       "                   datetime grid_id  value\n",
       "0 2018-09-08 08:00:00+00:00   3A3IE    0.0\n",
       "1 2018-09-08 08:00:00+00:00   3S31A    0.0\n",
       "2 2018-09-08 08:00:00+00:00   7II4T    0.0\n",
       "3 2018-09-08 08:00:00+00:00   8BOQH    0.0\n",
       "4 2018-09-08 08:00:00+00:00   A2FBI    0.0"
      ]
     },
     "execution_count": 129,
     "metadata": {},
     "output_type": "execute_result"
    }
   ],
   "source": [
    "# Identify test grid cells\n",
    "submission_format = pd.read_csv(RAW / \"submission_format.csv\", \n",
    "                                parse_dates=[\"datetime\"])\n",
    "\n",
    "submission_format.head()"
   ]
  },
  {
   "cell_type": "code",
   "execution_count": 133,
   "id": "657816c0-e7cc-46f8-8528-cb3eac9d38b1",
   "metadata": {},
   "outputs": [
    {
     "data": {
      "text/plain": [
       "(68, 3)"
      ]
     },
     "execution_count": 133,
     "metadata": {},
     "output_type": "execute_result"
    }
   ],
   "source": [
    "test_gc = grid_meta[grid_meta.index.isin(submission_format.grid_id)]\n",
    "test_gc.shape"
   ]
  },
  {
   "cell_type": "code",
   "execution_count": 135,
   "id": "6aa75d47-f187-4b11-b496-508f4b3bc9a8",
   "metadata": {},
   "outputs": [],
   "source": [
    "#test filepaths \n",
    "fp_test = list(omi_meta[omi_meta['split']=='test']['filepath'])\n",
    "\n",
    "# Create grid cell GeoDataFrame\n",
    "test_polys = gpd.GeoSeries.from_wkt(test_gc.wkt, crs=wgs84_crs)\n",
    "test_polys.name = \"geometry\"\n",
    "test_polys_gdf = gpd.GeoDataFrame(test_polys)\n",
    "test_polys_gdf[\"location\"] = test_gc.location"
   ]
  },
  {
   "cell_type": "code",
   "execution_count": 136,
   "id": "5e3d61f5-32d3-44a2-9b6a-eeb6f5023f9d",
   "metadata": {},
   "outputs": [
    {
     "data": {
      "application/vnd.jupyter.widget-view+json": {
       "model_id": "3000727fa5b74e56994393e1788db0b3",
       "version_major": 2,
       "version_minor": 0
      },
      "text/plain": [
       "QUEUEING TASKS | : 0it [00:00, ?it/s]"
      ]
     },
     "metadata": {},
     "output_type": "display_data"
    },
    {
     "data": {
      "application/vnd.jupyter.widget-view+json": {
       "model_id": "2dc671d57a02464d8afc499e7029cac8",
       "version_major": 2,
       "version_minor": 0
      },
      "text/plain": [
       "PROCESSING TASKS | :   0%|          | 0/399 [00:00<?, ?it/s]"
      ]
     },
     "metadata": {},
     "output_type": "display_data"
    },
    {
     "data": {
      "application/vnd.jupyter.widget-view+json": {
       "model_id": "d1b767ef01504e15bc61e7a757f4fe9a",
       "version_major": 2,
       "version_minor": 0
      },
      "text/plain": [
       "COLLECTING RESULTS | :   0%|          | 0/399 [00:00<?, ?it/s]"
      ]
     },
     "metadata": {},
     "output_type": "display_data"
    },
    {
     "data": {
      "text/plain": [
       "(15884, 5)"
      ]
     },
     "execution_count": 136,
     "metadata": {},
     "output_type": "execute_result"
    }
   ],
   "source": [
    "test_gdf_trop_no2 = preprocess_trop_no2(fp_test, \n",
    "                                        test_polys_gdf,\n",
    "                                        \"ColumnAmountNO2Trop\",\n",
    "                                        locations)\n",
    "\n",
    "#rename cols\n",
    "test_gdf_trop_no2.rename(columns = {'value':'trop_no2'},inplace=True)\n",
    "\n",
    "\n",
    "test_gdf_trop_no2.shape"
   ]
  },
  {
   "cell_type": "code",
   "execution_count": 141,
   "id": "6c79af78-4853-4b2f-b9d0-8807f40cc0c3",
   "metadata": {},
   "outputs": [
    {
     "data": {
      "application/vnd.jupyter.widget-view+json": {
       "model_id": "8440a406ea6f4b86937d0f426c85f1d8",
       "version_major": 2,
       "version_minor": 0
      },
      "text/plain": [
       "QUEUEING TASKS | : 0it [00:00, ?it/s]"
      ]
     },
     "metadata": {},
     "output_type": "display_data"
    },
    {
     "data": {
      "application/vnd.jupyter.widget-view+json": {
       "model_id": "6b2cf992bb9f4525ad0e193ec8321290",
       "version_major": 2,
       "version_minor": 0
      },
      "text/plain": [
       "PROCESSING TASKS | :   0%|          | 0/399 [00:00<?, ?it/s]"
      ]
     },
     "metadata": {},
     "output_type": "display_data"
    },
    {
     "data": {
      "application/vnd.jupyter.widget-view+json": {
       "model_id": "8469e917d98e4cada765a5c6acc1d33d",
       "version_major": 2,
       "version_minor": 0
      },
      "text/plain": [
       "COLLECTING RESULTS | :   0%|          | 0/399 [00:00<?, ?it/s]"
      ]
     },
     "metadata": {},
     "output_type": "display_data"
    },
    {
     "data": {
      "text/plain": [
       "(14919, 5)"
      ]
     },
     "execution_count": 141,
     "metadata": {},
     "output_type": "execute_result"
    }
   ],
   "source": [
    "test_gdf_trop_cf_no2 = preprocess_trop_no2(fp_test, \n",
    "                                        test_polys_gdf,\n",
    "                                        \"ColumnAmountNO2TropCloudScreened\",\n",
    "                                        locations)\n",
    "\n",
    "#rename cols\n",
    "test_gdf_trop_cf_no2.rename(columns = {'value':'trop_no2_cs'},inplace=True)\n",
    "\n",
    "\n",
    "test_gdf_trop_cf_no2.shape"
   ]
  },
  {
   "cell_type": "code",
   "execution_count": 144,
   "id": "bb5a63ea-8d52-4622-a31f-4b97bbec08a5",
   "metadata": {},
   "outputs": [
    {
     "data": {
      "application/vnd.jupyter.widget-view+json": {
       "model_id": "59fa16b8fa3945e2a944ae5ed9f96ca0",
       "version_major": 2,
       "version_minor": 0
      },
      "text/plain": [
       "QUEUEING TASKS | : 0it [00:00, ?it/s]"
      ]
     },
     "metadata": {},
     "output_type": "display_data"
    },
    {
     "data": {
      "application/vnd.jupyter.widget-view+json": {
       "model_id": "8f58b289ee4f482d96b4250b165181c4",
       "version_major": 2,
       "version_minor": 0
      },
      "text/plain": [
       "PROCESSING TASKS | :   0%|          | 0/399 [00:00<?, ?it/s]"
      ]
     },
     "metadata": {},
     "output_type": "display_data"
    },
    {
     "data": {
      "application/vnd.jupyter.widget-view+json": {
       "model_id": "461d0483a8d84cc58b185687fb23e1ed",
       "version_major": 2,
       "version_minor": 0
      },
      "text/plain": [
       "COLLECTING RESULTS | :   0%|          | 0/399 [00:00<?, ?it/s]"
      ]
     },
     "metadata": {},
     "output_type": "display_data"
    },
    {
     "data": {
      "text/plain": [
       "(15983, 5)"
      ]
     },
     "execution_count": 144,
     "metadata": {},
     "output_type": "execute_result"
    }
   ],
   "source": [
    "test_gdf_col_no2 = preprocess_trop_no2(fp_test, \n",
    "                                        test_polys_gdf,\n",
    "                                        \"ColumnAmountNO2\",\n",
    "                                        locations)\n",
    "\n",
    "#rename cols\n",
    "test_gdf_col_no2.rename(columns = {'value':'col_no2'},inplace=True)\n",
    "\n",
    "\n",
    "test_gdf_col_no2.shape"
   ]
  },
  {
   "cell_type": "code",
   "execution_count": 145,
   "id": "810d4708-133f-498f-a419-9ba078be18b5",
   "metadata": {},
   "outputs": [
    {
     "data": {
      "application/vnd.jupyter.widget-view+json": {
       "model_id": "31a1d98da6894af88810dcf7619a88e0",
       "version_major": 2,
       "version_minor": 0
      },
      "text/plain": [
       "QUEUEING TASKS | : 0it [00:00, ?it/s]"
      ]
     },
     "metadata": {},
     "output_type": "display_data"
    },
    {
     "data": {
      "application/vnd.jupyter.widget-view+json": {
       "model_id": "3cad3143fd8b4cd7914af579a962e5e1",
       "version_major": 2,
       "version_minor": 0
      },
      "text/plain": [
       "PROCESSING TASKS | :   0%|          | 0/399 [00:00<?, ?it/s]"
      ]
     },
     "metadata": {},
     "output_type": "display_data"
    },
    {
     "data": {
      "application/vnd.jupyter.widget-view+json": {
       "model_id": "0b02e860fda74e8f82f715bf17e1d89f",
       "version_major": 2,
       "version_minor": 0
      },
      "text/plain": [
       "COLLECTING RESULTS | :   0%|          | 0/399 [00:00<?, ?it/s]"
      ]
     },
     "metadata": {},
     "output_type": "display_data"
    },
    {
     "data": {
      "text/plain": [
       "(14952, 5)"
      ]
     },
     "execution_count": 145,
     "metadata": {},
     "output_type": "execute_result"
    }
   ],
   "source": [
    "test_gdf_col_cf_no2 = preprocess_trop_no2(fp_test, \n",
    "                                        test_polys_gdf,\n",
    "                                        \"ColumnAmountNO2CloudScreened\",\n",
    "                                        locations)\n",
    "\n",
    "#rename cols\n",
    "test_gdf_col_cf_no2.rename(columns = {'value':'col_no2_cs'},inplace=True)\n",
    "\n",
    "\n",
    "test_gdf_col_cf_no2.shape"
   ]
  },
  {
   "cell_type": "markdown",
   "id": "b636fbfc-3245-43e4-9718-10c7aec42efc",
   "metadata": {},
   "source": [
    "**Merging test df**"
   ]
  },
  {
   "cell_type": "code",
   "execution_count": 147,
   "id": "4aa1335d-022b-4653-8727-72fb068c6985",
   "metadata": {},
   "outputs": [],
   "source": [
    "#merging columns\n",
    "on = ['grid_id','granule_id','geometry','location']\n",
    "how = 'left'"
   ]
  },
  {
   "cell_type": "code",
   "execution_count": 148,
   "id": "4c756c26-688e-484f-8b85-3e2a9c98f7a0",
   "metadata": {},
   "outputs": [
    {
     "data": {
      "text/plain": [
       "(15884, 8)"
      ]
     },
     "execution_count": 148,
     "metadata": {},
     "output_type": "execute_result"
    }
   ],
   "source": [
    "#merging trop no2 with trop_no2 cloud screened\n",
    "test_df = test_gdf_trop_no2.merge(test_gdf_trop_cf_no2,\n",
    "                                    on = on ,\n",
    "                                    how = how)\n",
    "#merging col no2\n",
    "test_df = test_df.merge(test_gdf_col_no2,\n",
    "                                    on = on ,\n",
    "                                    how = how)\n",
    "\n",
    "#merging col no2 cloud filtered\n",
    "test_df = test_df.merge(test_gdf_col_cf_no2,\n",
    "                                    on = on ,\n",
    "                                    how = how)\n",
    "\n",
    "\n",
    "test_df.shape"
   ]
  },
  {
   "cell_type": "code",
   "execution_count": 166,
   "id": "8fcb5155-aeec-4f6d-b963-0739b797a363",
   "metadata": {},
   "outputs": [
    {
     "data": {
      "text/plain": [
       "Index(['grid_id', 'geometry', 'location', 'granule_id', 'trop_no2',\n",
       "       'trop_no2_cs', 'col_no2', 'col_no2_cs', 'null_fields'],\n",
       "      dtype='object')"
      ]
     },
     "execution_count": 166,
     "metadata": {},
     "output_type": "execute_result"
    }
   ],
   "source": [
    "train_df.columns"
   ]
  },
  {
   "cell_type": "code",
   "execution_count": 165,
   "id": "ea5fc93a-bbb9-478e-81a8-1416b8c90f93",
   "metadata": {},
   "outputs": [
    {
     "data": {
      "text/plain": [
       "Index(['grid_id', 'geometry', 'location', 'granule_id', 'trop_no2',\n",
       "       'trop_no2_cs', 'col_no2', 'col_no2_cs', 'null_fields'],\n",
       "      dtype='object')"
      ]
     },
     "execution_count": 165,
     "metadata": {},
     "output_type": "execute_result"
    }
   ],
   "source": [
    "test_df.columns"
   ]
  },
  {
   "cell_type": "code",
   "execution_count": 149,
   "id": "25fd758a-672f-4fc6-b3ae-80df37d873ac",
   "metadata": {},
   "outputs": [
    {
     "data": {
      "text/plain": [
       "grid_id          0\n",
       "geometry         0\n",
       "location         0\n",
       "granule_id       0\n",
       "trop_no2         0\n",
       "trop_no2_cs    965\n",
       "col_no2          0\n",
       "col_no2_cs     932\n",
       "null_fields      0\n",
       "dtype: int64"
      ]
     },
     "execution_count": 149,
     "metadata": {},
     "output_type": "execute_result"
    }
   ],
   "source": [
    "test_df['null_fields'] = test_df.isnull().sum(axis=1)\n",
    "test_df.isnull().sum()"
   ]
  },
  {
   "cell_type": "code",
   "execution_count": 150,
   "id": "28ef63f4-0bc6-455e-93d0-a0f67310a143",
   "metadata": {},
   "outputs": [],
   "source": [
    "test_df=test_df.sort_values(by = 'location')\n",
    "test_df['col_no2_cs'].bfill(inplace=True)\n",
    "test_df['trop_no2_cs'].bfill(inplace=True)\n"
   ]
  },
  {
   "cell_type": "code",
   "execution_count": 151,
   "id": "81decdb0-0056-4235-9bd9-6832db107e54",
   "metadata": {},
   "outputs": [
    {
     "data": {
      "text/plain": [
       "(15884, 9)"
      ]
     },
     "execution_count": 151,
     "metadata": {},
     "output_type": "execute_result"
    }
   ],
   "source": [
    "test_df.shape"
   ]
  },
  {
   "cell_type": "code",
   "execution_count": 170,
   "id": "c86dc595-959a-46d4-b54e-b931928b0678",
   "metadata": {},
   "outputs": [
    {
     "data": {
      "text/plain": [
       "0    14919\n",
       "2      932\n",
       "1       33\n",
       "Name: null_fields, dtype: int64"
      ]
     },
     "execution_count": 170,
     "metadata": {},
     "output_type": "execute_result"
    }
   ],
   "source": [
    "test_df.null_fields.value_counts()"
   ]
  },
  {
   "cell_type": "code",
   "execution_count": 153,
   "id": "c4b8b652-5fb5-4eea-8f5d-0733e65eba7a",
   "metadata": {},
   "outputs": [],
   "source": [
    "test_df.to_csv(INTERIM / 'test_df.csv',\n",
    "                index=False)"
   ]
  }
 ],
 "metadata": {
  "kernelspec": {
   "display_name": "Python 3 (ipykernel)",
   "language": "python",
   "name": "python3"
  },
  "language_info": {
   "codemirror_mode": {
    "name": "ipython",
    "version": 3
   },
   "file_extension": ".py",
   "mimetype": "text/x-python",
   "name": "python",
   "nbconvert_exporter": "python",
   "pygments_lexer": "ipython3",
   "version": "3.8.12"
  }
 },
 "nbformat": 4,
 "nbformat_minor": 5
}
